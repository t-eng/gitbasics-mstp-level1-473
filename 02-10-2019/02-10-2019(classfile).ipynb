{
 "cells": [
  {
   "cell_type": "markdown",
   "metadata": {},
   "source": [
    "## Regular expressions"
   ]
  },
  {
   "cell_type": "code",
   "execution_count": null,
   "metadata": {},
   "outputs": [],
   "source": [
    "#abc--->that matches the character sequence any where in the string\n",
    "2.^abc--->begining of the string \n",
    "3.$-->end of the string\n",
    "a|b-->either a and b\n",
    "#^([a-z]|[A-Z]|[0-9]|)([a-z]|[A-Z]|[0-9]|[_]){6,14}([0-9]|[a-z])@[a-z]{2,10}[.][a-z]{2,4}$"
   ]
  },
  {
   "cell_type": "code",
   "execution_count": 22,
   "metadata": {},
   "outputs": [
    {
     "data": {
      "text/plain": [
       "1"
      ]
     },
     "execution_count": 22,
     "metadata": {},
     "output_type": "execute_result"
    }
   ],
   "source": [
    "### Phone number validation\n",
    "#^[0][6-9][0-9]$----number starting with 0\n",
    "#^+91[6-9][0-9]{9}$----10 digit number starting with \"+91\"\n",
    "#^[6-9][0-9]{9}$\n",
    "import re\n",
    "def phn(no):\n",
    "    pattern='^[+][9][1][6-9][0-9]{9}$|^[6-9][0-9]{9}$|^[0][6-9][0-9]{9}$'\n",
    "    if re.match(pattern,no):\n",
    "        return 1\n",
    "    else:\n",
    "        return 0\n",
    "#phn(\"9908675378\")\n",
    "#phn(\"+919908698473\")\n",
    "phn(\"09909897656\")"
   ]
  },
  {
   "cell_type": "code",
   "execution_count": 23,
   "metadata": {},
   "outputs": [
    {
     "data": {
      "text/plain": [
       "1"
      ]
     },
     "execution_count": 23,
     "metadata": {},
     "output_type": "execute_result"
    }
   ],
   "source": [
    "def email(n):\n",
    "    pattrn='^([a-z]|[A-Z]|[0-9]|)([a-z]|[A-Z]|[0-9]|[_]){6,14}([0-9]|[a-z])@[a-z]{2,10}[.][a-z]{2,4}$'\n",
    "    if re.match(pattrn,n):\n",
    "        return 1\n",
    "    else:\n",
    "        return 0\n",
    "email(\"manishar_dy9491@gmail.com\")"
   ]
  },
  {
   "cell_type": "code",
   "execution_count": 31,
   "metadata": {},
   "outputs": [
    {
     "name": "stdout",
     "output_type": "stream",
     "text": [
      "phn no verified successfully\n",
      "email id verified\n"
     ]
    },
    {
     "data": {
      "text/plain": [
       "{'mani': ['9908687654', 'mani_123@gmail.com'],\n",
       " 'teja': ['7780987654', 'hello8373@gmail.com']}"
      ]
     },
     "execution_count": 31,
     "metadata": {},
     "output_type": "execute_result"
    }
   ],
   "source": [
    "d={\"mani\":[\"9908687654\",\"mani_123@gmail.com\"]}\n",
    "def addcontact(name,l):\n",
    "    if name not in d:\n",
    "        no=l[0]\n",
    "        id=l[1]\n",
    "        if phn(no)==1:\n",
    "            print(\"phn no verified successfully\")\n",
    "            if email(id)==1:\n",
    "                print(\"email id verified\")\n",
    "                d[name]=l\n",
    "        else:\n",
    "            print(\"enter a valid num and mail-id\")\n",
    "    else:\n",
    "         print(\"contact already exist\")\n",
    "addcontact(\"teja\",[\"7780987654\",\"hello8373@gmail.com\"])\n",
    "d       \n",
    "     \n",
    "\n",
    "   \n",
    "       "
   ]
  },
  {
   "cell_type": "code",
   "execution_count": null,
   "metadata": {},
   "outputs": [],
   "source": []
  }
 ],
 "metadata": {
  "kernelspec": {
   "display_name": "Python 3",
   "language": "python",
   "name": "python3"
  },
  "language_info": {
   "codemirror_mode": {
    "name": "ipython",
    "version": 3
   },
   "file_extension": ".py",
   "mimetype": "text/x-python",
   "name": "python",
   "nbconvert_exporter": "python",
   "pygments_lexer": "ipython3",
   "version": "3.7.3"
  }
 },
 "nbformat": 4,
 "nbformat_minor": 2
}
