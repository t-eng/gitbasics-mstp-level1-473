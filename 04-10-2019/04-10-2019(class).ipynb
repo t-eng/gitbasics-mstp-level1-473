{
 "cells": [
  {
   "cell_type": "code",
   "execution_count": 1,
   "metadata": {},
   "outputs": [],
   "source": [
    "## File Modes\n",
    "#Tell\n",
    "#seek\n",
    "#w+=write and read"
   ]
  },
  {
   "cell_type": "code",
   "execution_count": 4,
   "metadata": {},
   "outputs": [],
   "source": [
    "#Create a file \n",
    "file=\"modes.txt\"\n",
    "def file_m(file):\n",
    "    with open(file,'w') as f:\n",
    "        f.write(file)\n",
    "file_m(file)"
   ]
  },
  {
   "cell_type": "code",
   "execution_count": 15,
   "metadata": {},
   "outputs": [],
   "source": [
    "file=\"modes.txt\"\n",
    "def file_m(file,mode):\n",
    "    with open(file,'w') as f:\n",
    "        f.write(mode)\n",
    "        f.write(\"\\nskill development\")\n",
    "file_m(file,\"apssdc\")"
   ]
  },
  {
   "cell_type": "markdown",
   "metadata": {},
   "source": [
    "### Tell"
   ]
  },
  {
   "cell_type": "code",
   "execution_count": null,
   "metadata": {},
   "outputs": [],
   "source": []
  },
  {
   "cell_type": "code",
   "execution_count": 34,
   "metadata": {},
   "outputs": [
    {
     "name": "stdout",
     "output_type": "stream",
     "text": [
      "apssdc\n",
      "skill development\n",
      "\n",
      "25\n"
     ]
    }
   ],
   "source": [
    "m=open(\"modes.txt\",'r')\n",
    "m1=m.read()\n",
    "print(m1)\n",
    "print(m.tell())\n",
    "m.close()"
   ]
  },
  {
   "cell_type": "code",
   "execution_count": 36,
   "metadata": {},
   "outputs": [
    {
     "name": "stdout",
     "output_type": "stream",
     "text": [
      "kill development\n",
      "\n"
     ]
    }
   ],
   "source": [
    "x=open(\"modes.txt\",'r')\n",
    "x.read()\n",
    "x.seek(8)\n",
    "x.tell()\n",
    "print(x.read())"
   ]
  },
  {
   "cell_type": "code",
   "execution_count": 44,
   "metadata": {},
   "outputs": [
    {
     "name": "stdout",
     "output_type": "stream",
     "text": [
      "llo world\n"
     ]
    }
   ],
   "source": [
    "fnw=\"modes.txt\"\n",
    "def writing(fn):\n",
    "    with open (fnw,'w+') as f:\n",
    "        f.write(\"hello world\")\n",
    "        f.seek(2)\n",
    "        f1=f.read()\n",
    "        print(f1)\n",
    "writing(fnw)"
   ]
  },
  {
   "cell_type": "code",
   "execution_count": 4,
   "metadata": {},
   "outputs": [
    {
     "name": "stdout",
     "output_type": "stream",
     "text": [
      "121\n",
      "palindrome\n"
     ]
    }
   ],
   "source": [
    " def palindrome(n):\n",
    "        n=input()\n",
    "        a=\"\"\n",
    "        for i in range (1,len(n)):\n",
    "            k=n[::-1]\n",
    "        if n==k:\n",
    "            print(\"palindrome\")\n",
    "        else:\n",
    "            print(\"not palidrome\")\n",
    "palindrome(n)    "
   ]
  },
  {
   "cell_type": "code",
   "execution_count": 21,
   "metadata": {},
   "outputs": [
    {
     "name": "stdout",
     "output_type": "stream",
     "text": [
      "1234\n",
      "not palindrome\n"
     ]
    }
   ],
   "source": [
    "n=int(input())\n",
    "def palinum(n):\n",
    "    rev=0\n",
    "    t=n\n",
    "    for i in range(n):\n",
    "        if n!=0:\n",
    "            a=n%10\n",
    "            rev=rev*10+a\n",
    "            n=n//10\n",
    "    if(rev==t):\n",
    "        print(\"palindrome\")\n",
    "    else:\n",
    "        print(\"not palindrome\")\n",
    "palinum(n)"
   ]
  },
  {
   "cell_type": "code",
   "execution_count": null,
   "metadata": {},
   "outputs": [],
   "source": []
  }
 ],
 "metadata": {
  "kernelspec": {
   "display_name": "Python 3",
   "language": "python",
   "name": "python3"
  },
  "language_info": {
   "codemirror_mode": {
    "name": "ipython",
    "version": 3
   },
   "file_extension": ".py",
   "mimetype": "text/x-python",
   "name": "python",
   "nbconvert_exporter": "python",
   "pygments_lexer": "ipython3",
   "version": "3.7.3"
  }
 },
 "nbformat": 4,
 "nbformat_minor": 2
}
