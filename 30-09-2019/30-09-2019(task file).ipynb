{
 "cells": [
  {
   "cell_type": "code",
   "execution_count": 51,
   "metadata": {},
   "outputs": [
    {
     "name": "stdout",
     "output_type": "stream",
     "text": [
      "[1, 4, 9, 16, 25, 36, 49, 64, 81, 100, 121, 144, 169, 196, 225]\n",
      "{1: 1, 2: 4, 3: 9, 4: 16, 5: 25, 6: 36, 7: 49, 8: 64, 9: 81, 10: 100, 11: 121, 12: 144, 13: 169, 14: 196, 15: 225}\n"
     ]
    }
   ],
   "source": [
    "## .Write a Python program to generate and print a list and a dictionary of\n",
    "##square of numbers between 1 and 15 (both included) \n",
    "n=[] \n",
    "m={}\n",
    "for i in range(1,16):\n",
    "    m[i]=i**2\n",
    "    n.append(i**2)\n",
    "print(n)\n",
    "print(m)\n"
   ]
  },
  {
   "cell_type": "code",
   "execution_count": 18,
   "metadata": {},
   "outputs": [
    {
     "name": "stdout",
     "output_type": "stream",
     "text": [
      "10\n",
      "[1, 2, 3, 4, 5, 6, 7, 8, 9, 10]\n"
     ]
    }
   ],
   "source": [
    "##.Take 10 integer inputs from user and store them in a list and print them on screen.\n",
    "p=[]\n",
    "m=int(input())\n",
    "for i in range(1,m+1):\n",
    "    p.append(i)\n",
    "print(p)\n",
    "    \n"
   ]
  },
  {
   "cell_type": "code",
   "execution_count": 11,
   "metadata": {},
   "outputs": [
    {
     "name": "stdout",
     "output_type": "stream",
     "text": [
      "[2, 4, 6]\n"
     ]
    }
   ],
   "source": [
    "## 3.l=[1,5,7,3,2,4,5,9],print list of all even numbers from the given\n",
    "#list \n",
    "l=[1,5,7,3,2,4,6,5,9]\n",
    "k=[]\n",
    "for i in range(len(l)):\n",
    "        if l[i]%2==0:\n",
    "            k.append(l[i])\n",
    "print(k)\n",
    "\n",
    "\n"
   ]
  },
  {
   "cell_type": "code",
   "execution_count": 1,
   "metadata": {},
   "outputs": [
    {
     "name": "stdout",
     "output_type": "stream",
     "text": [
      "-3\n",
      "4\n",
      "0\n",
      "23\n",
      "-9\n",
      "12\n",
      "0\n",
      "45\n",
      "-91\n",
      "-88\n",
      "{'p': 4, 'n': 4, 'e': 3, 'od': 5, 'z': 2}\n"
     ]
    }
   ],
   "source": [
    "# 4.Take 10 integer inputs from user and print the following:\n",
    "#number of positive numbers\n",
    "#number of negative numbers\n",
    "#number of odd numbers\n",
    "#number of even numbers\n",
    "#number of 0s.using dictionaries\n",
    "#a=[10,20,-5,-6,3,4,0,0,-2,8]\n",
    "#d={p:5,n:3,e:6,odd:2,0:2}\n",
    "l=[]\n",
    "for i in range(1,11):\n",
    "    n=int(input())\n",
    "    l.append(n)\n",
    "d={'p':0,'n':0,'e':0,'od':0,'z':0}\n",
    "for j in l:\n",
    "    if j>0:\n",
    "        d['p']+=1\n",
    "        if j%2==0:\n",
    "            d['e']+=1\n",
    "        else:\n",
    "            d['od']+=1\n",
    "    elif j<0:\n",
    "        d['n']+=1\n",
    "        if j%2==0:\n",
    "            d['e']+=1\n",
    "        else:\n",
    "            d['od']+=1\n",
    "    elif j==0:\n",
    "        d['z']+=1\n",
    "print(d)\n",
    "    \n",
    "\n"
   ]
  },
  {
   "cell_type": "code",
   "execution_count": 4,
   "metadata": {},
   "outputs": [
    {
     "name": "stdout",
     "output_type": "stream",
     "text": [
      "5\n",
      "10\n",
      "e\n",
      "99\n",
      "f\n",
      "34\n",
      "g\n",
      "78\n",
      "h\n",
      "45\n",
      "r\n",
      "{10: 'e', 99: 'f', 34: 'g', 78: 'h', 45: 'r'}\n"
     ]
    }
   ],
   "source": [
    "##.Ask user to give name and marks of 10 different students. \n",
    "#Store them in dictionary.\n",
    "a={}\n",
    "b=int(input())\n",
    "for i in range(1,b+1):\n",
    "    name=int(input())\n",
    "    marks=input()\n",
    "    a[name]=marks\n",
    "print(a)\n",
    "    \n",
    "  "
   ]
  },
  {
   "cell_type": "code",
   "execution_count": 5,
   "metadata": {},
   "outputs": [
    {
     "name": "stdout",
     "output_type": "stream",
     "text": [
      "{10: 'e', 99: 'f', 34: 'g', 78: 'h', 45: 'r'}\n",
      "[10, 34, 45, 78, 99]\n",
      "10 : e\n",
      "99 : f\n",
      "34 : g\n",
      "78 : h\n",
      "45 : r\n"
     ]
    }
   ],
   "source": [
    "##.Sort the dictionary created in previous example according to marks.\n",
    "print(a)\n",
    "n=sorted(a.keys())\n",
    "print(n)\n",
    "for i in a:\n",
    "    print(i,\":\",a[i])"
   ]
  },
  {
   "cell_type": "code",
   "execution_count": 16,
   "metadata": {},
   "outputs": [
    {
     "name": "stdout",
     "output_type": "stream",
     "text": [
      "['left', 'up', 'north', 'push']\n",
      "push\n",
      "pull\n"
     ]
    }
   ],
   "source": [
    "##.Use dictionary to store antonyms of words. \n",
    "#E.g.- 'Right':'Left', 'Up':'Down', etc. Display all words and\n",
    "#then ask user to enter a word and display antonym of it.\n",
    "g={\"left\":\"right\",\"up\":\"down\",\"north\":\"south\",\"push\":\"pull\"}\n",
    "print(list(g.keys()))\n",
    "n=input()\n",
    "print(g[n])\n",
    "# print(g.get(n))"
   ]
  },
  {
   "cell_type": "code",
   "execution_count": 32,
   "metadata": {},
   "outputs": [
    {
     "name": "stdout",
     "output_type": "stream",
     "text": [
      "{'I': 4, 'P': 2, 'M': 1, 'S': 4}\n"
     ]
    }
   ],
   "source": [
    "##.Count the number of occurrence of each letter in word \"MISSISSIPPI\".\n",
    "#Store count of every letter with the letter in a dictionary.\n",
    "k=\"MISSISSIPPI\"\n",
    "m=list(set(k))\n",
    "n={}\n",
    "for i in m:\n",
    "    n[i]=k.count(i)\n",
    "print(n)"
   ]
  },
  {
   "cell_type": "code",
   "execution_count": 6,
   "metadata": {},
   "outputs": [
    {
     "name": "stdout",
     "output_type": "stream",
     "text": [
      "['I', 'M', 'P', 'S']\n",
      "{'I': 4, 'M': 1, 'P': 2, 'S': 4}\n"
     ]
    }
   ],
   "source": [
    "##From the previous question, sort according to the number of letters.\n",
    "k=\"MISSISSIPPI\"\n",
    "n=set(k)\n",
    "n=sorted(n)\n",
    "print(n)\n",
    "j={}\n",
    "for i in n:\n",
    "    j[i]=k.count(i)\n",
    "print(j)"
   ]
  },
  {
   "cell_type": "code",
   "execution_count": null,
   "metadata": {},
   "outputs": [],
   "source": []
  }
 ],
 "metadata": {
  "kernelspec": {
   "display_name": "Python 3",
   "language": "python",
   "name": "python3"
  },
  "language_info": {
   "codemirror_mode": {
    "name": "ipython",
    "version": 3
   },
   "file_extension": ".py",
   "mimetype": "text/x-python",
   "name": "python",
   "nbconvert_exporter": "python",
   "pygments_lexer": "ipython3",
   "version": "3.7.3"
  }
 },
 "nbformat": 4,
 "nbformat_minor": 2
}
