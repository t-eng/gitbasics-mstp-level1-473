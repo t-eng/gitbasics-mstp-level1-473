{
 "cells": [
  {
   "cell_type": "code",
   "execution_count": 7,
   "metadata": {},
   "outputs": [
    {
     "name": "stdout",
     "output_type": "stream",
     "text": [
      "manisha\n",
      "reddy\n",
      "manisha reddy\n",
      "reddy manisha\n"
     ]
    }
   ],
   "source": [
    "#1.Write a Python program which accepts the user's first and last name and print them in reverse order\n",
    "#with a space between them\n",
    "x=input()\n",
    "y=input()\n",
    "print(x,y)\n",
    "print(y,x)\n"
   ]
  },
  {
   "cell_type": "code",
   "execution_count": 4,
   "metadata": {},
   "outputs": [
    {
     "name": "stdout",
     "output_type": "stream",
     "text": [
      "data.py\n",
      "py\n"
     ]
    }
   ],
   "source": [
    "#2.Write a Python program to accept a filename from the user and print the extension of that. \n",
    "#Sample filename : abc. java\n",
    "#Output : java \n",
    "x=input()\n",
    "a=x.split('.')\n",
    "y=a[1]\n",
    "print(y)\n"
   ]
  },
  {
   "cell_type": "code",
   "execution_count": 10,
   "metadata": {},
   "outputs": [
    {
     "name": "stdout",
     "output_type": "stream",
     "text": [
      "5\n",
      "155\n"
     ]
    }
   ],
   "source": [
    "#3. Write a Python program that accepts an integer (n) and computes the value of n+nn+nnn. \n",
    "#Sample value of n is 5\n",
    "#Expected Result : 615 \n",
    "n=int(input())\n",
    "print(n+(n*n)+(n*n*n))\n"
   ]
  },
  {
   "cell_type": "code",
   "execution_count": 3,
   "metadata": {},
   "outputs": [
    {
     "name": "stdout",
     "output_type": "stream",
     "text": [
      "abc\n",
      "xyz\n",
      "xyc abz\n"
     ]
    }
   ],
   "source": [
    "#4.Write a Python program to get a single string from two given strings, separated by a space and swap \n",
    "#the first two characters of each string. \n",
    "#Sample String : 'abc', 'xyz'\n",
    "#Expected Result : 'xyc abz' \n",
    "a=input()\n",
    "b=input()\n",
    "m=b[0:2]+a[2:]\n",
    "n=a[0:2]+b[2]\n",
    "print(m+\" \"+n)\n",
    "\n",
    "\n"
   ]
  },
  {
   "cell_type": "code",
   "execution_count": 19,
   "metadata": {},
   "outputs": [
    {
     "name": "stdout",
     "output_type": "stream",
     "text": [
      "ProbLem SolviNg UsiNg PytHoN\n",
      "pROBlEM sOLVInG uSInG pYThOn\n"
     ]
    }
   ],
   "source": [
    "#5.Write a Python script that takes input from the user and displays that input back in upper and lower cases \n",
    "x=input()\n",
    "print(x.swapcase())"
   ]
  },
  {
   "cell_type": "code",
   "execution_count": 17,
   "metadata": {},
   "outputs": [
    {
     "name": "stdout",
     "output_type": "stream",
     "text": [
      "MANISHA\n",
      "2\n",
      "maNISHA\n"
     ]
    }
   ],
   "source": [
    "#6.Write a Python program to lowercase first n characters in a string \n",
    "a=input()\n",
    "b=int(input())\n",
    "print(a[:b].lower()+a[b:])"
   ]
  },
  {
   "cell_type": "markdown",
   "metadata": {},
   "source": [
    "## "
   ]
  }
 ],
 "metadata": {
  "kernelspec": {
   "display_name": "Python 3",
   "language": "python",
   "name": "python3"
  },
  "language_info": {
   "codemirror_mode": {
    "name": "ipython",
    "version": 3
   },
   "file_extension": ".py",
   "mimetype": "text/x-python",
   "name": "python",
   "nbconvert_exporter": "python",
   "pygments_lexer": "ipython3",
   "version": "3.7.3"
  }
 },
 "nbformat": 4,
 "nbformat_minor": 2
}
