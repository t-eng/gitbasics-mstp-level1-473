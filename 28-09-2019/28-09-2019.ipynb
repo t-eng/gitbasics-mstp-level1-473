{
 "cells": [
  {
   "cell_type": "code",
   "execution_count": 13,
   "metadata": {},
   "outputs": [
    {
     "name": "stdout",
     "output_type": "stream",
     "text": [
      "2\n",
      "2 3 -1 4 56 -9\n",
      "-55\n",
      "1 2 -3 \n",
      "0\n"
     ]
    }
   ],
   "source": [
    "### Additive inverse\n",
    "n=int(input())\n",
    "for i in range (1,n+1):\n",
    "    m=list(map(int,input().split()))\n",
    "    s=0\n",
    "    for i in m:\n",
    "        if i>0:\n",
    "            s=s+(-1*i)\n",
    "        elif i<0:\n",
    "            s=s+(-1*i)\n",
    "    print(s)\n",
    "  \n",
    "    \n",
    "    \n"
   ]
  },
  {
   "cell_type": "code",
   "execution_count": 14,
   "metadata": {},
   "outputs": [
    {
     "name": "stdout",
     "output_type": "stream",
     "text": [
      "1\n",
      "9908698573919482105348\n",
      "True\n"
     ]
    }
   ],
   "source": [
    "### pan number\n",
    "n= int(input())\n",
    "for i in range(1,n+1):\n",
    "    a=input()\n",
    "    b=['0','1','2','3','4','5','6','7','8','9']\n",
    "    count=0\n",
    "    for j in b:\n",
    "        if j in a:\n",
    "            count+=1\n",
    "    if count==10:\n",
    "        print(\"True\")\n",
    "    else:\n",
    "        print(\"false\")"
   ]
  },
  {
   "cell_type": "code",
   "execution_count": 45,
   "metadata": {},
   "outputs": [
    {
     "name": "stdout",
     "output_type": "stream",
     "text": [
      "ibj"
     ]
    }
   ],
   "source": [
    "a=\"hai\"\n",
    "for i in a:\n",
    "    s=ord(i)+1\n",
    "    print(chr(s),end=\"\")"
   ]
  },
  {
   "cell_type": "code",
   "execution_count": 46,
   "metadata": {},
   "outputs": [
    {
     "name": "stdout",
     "output_type": "stream",
     "text": [
      "hai\n"
     ]
    },
    {
     "ename": "ValueError",
     "evalue": "invalid literal for int() with base 10: 'hai'",
     "output_type": "error",
     "traceback": [
      "\u001b[1;31m---------------------------------------------------------------------------\u001b[0m",
      "\u001b[1;31mValueError\u001b[0m                                Traceback (most recent call last)",
      "\u001b[1;32m<ipython-input-46-dfa858c56274>\u001b[0m in \u001b[0;36m<module>\u001b[1;34m\u001b[0m\n\u001b[0;32m      1\u001b[0m \u001b[1;31m#alphabet-encryption\u001b[0m\u001b[1;33m\u001b[0m\u001b[1;33m\u001b[0m\u001b[1;33m\u001b[0m\u001b[0m\n\u001b[1;32m----> 2\u001b[1;33m \u001b[0mn\u001b[0m\u001b[1;33m=\u001b[0m\u001b[0mint\u001b[0m\u001b[1;33m(\u001b[0m\u001b[0minput\u001b[0m\u001b[1;33m(\u001b[0m\u001b[1;33m)\u001b[0m\u001b[1;33m)\u001b[0m\u001b[1;33m\u001b[0m\u001b[1;33m\u001b[0m\u001b[0m\n\u001b[0m\u001b[0;32m      3\u001b[0m \u001b[1;32mfor\u001b[0m \u001b[0mi\u001b[0m \u001b[1;32min\u001b[0m \u001b[0mrange\u001b[0m \u001b[1;33m(\u001b[0m\u001b[1;36m1\u001b[0m\u001b[1;33m,\u001b[0m\u001b[0mn\u001b[0m\u001b[1;33m+\u001b[0m\u001b[1;36m1\u001b[0m\u001b[1;33m)\u001b[0m\u001b[1;33m:\u001b[0m\u001b[1;33m\u001b[0m\u001b[1;33m\u001b[0m\u001b[0m\n\u001b[0;32m      4\u001b[0m     \u001b[0ma\u001b[0m\u001b[1;33m=\u001b[0m\u001b[0minput\u001b[0m\u001b[1;33m(\u001b[0m\u001b[1;33m)\u001b[0m\u001b[1;33m\u001b[0m\u001b[1;33m\u001b[0m\u001b[0m\n\u001b[0;32m      5\u001b[0m     \u001b[1;32mfor\u001b[0m \u001b[0mi\u001b[0m \u001b[1;32min\u001b[0m \u001b[0ma\u001b[0m\u001b[1;33m:\u001b[0m\u001b[1;33m\u001b[0m\u001b[1;33m\u001b[0m\u001b[0m\n",
      "\u001b[1;31mValueError\u001b[0m: invalid literal for int() with base 10: 'hai'"
     ]
    }
   ],
   "source": [
    "#alphabet-encryption\n",
    "n=int(input())\n",
    "for i in range (1,n+1):\n",
    "    a=input()\n",
    "    for i in a:\n",
    "        a=ord(i)+1\n",
    "        print(chr(a),end=\"\")"
   ]
  },
  {
   "cell_type": "code",
   "execution_count": 38,
   "metadata": {},
   "outputs": [
    {
     "name": "stdout",
     "output_type": "stream",
     "text": [
      "kvsw\n",
      "463\n"
     ]
    }
   ],
   "source": [
    "n=input()\n",
    "s=0\n",
    "for i in n:\n",
    "    s=s+ord(i)\n",
    "print(s)\n",
    "    "
   ]
  },
  {
   "cell_type": "code",
   "execution_count": 25,
   "metadata": {},
   "outputs": [
    {
     "name": "stdout",
     "output_type": "stream",
     "text": [
      "119\n"
     ]
    }
   ],
   "source": [
    "\n",
    "print(ord(\"w\"))"
   ]
  },
  {
   "cell_type": "code",
   "execution_count": 47,
   "metadata": {},
   "outputs": [
    {
     "name": "stdout",
     "output_type": "stream",
     "text": [
      "4\n",
      "0 1 1 2 "
     ]
    }
   ],
   "source": [
    "## Fibanocci numbers\n",
    "a=0\n",
    "b=1\n",
    "n=int(input())\n",
    "for i in range(n):\n",
    "    print(a,end=\" \")\n",
    "    c=a+b\n",
    "    a=b\n",
    "    b=c"
   ]
  },
  {
   "cell_type": "code",
   "execution_count": 52,
   "metadata": {},
   "outputs": [
    {
     "name": "stdout",
     "output_type": "stream",
     "text": [
      "1\n",
      "500\n",
      "530\n"
     ]
    }
   ],
   "source": [
    "def perfect(n):\n",
    "    m=0\n",
    "    for i in range (1,n):\n",
    "        if n%i==0:\n",
    "            m=m+i\n",
    "    if m==n:\n",
    "        return 1\n",
    "    else:\n",
    "        return 0\n",
    "lb=int(input())\n",
    "ub=int(input())\n",
    "s=0\n",
    "for j in range (lb,ub+1):\n",
    "    if perfect(j)==1:\n",
    "        s=s+j\n",
    "print(s)\n",
    "            "
   ]
  },
  {
   "cell_type": "code",
   "execution_count": null,
   "metadata": {},
   "outputs": [],
   "source": []
  }
 ],
 "metadata": {
  "kernelspec": {
   "display_name": "Python 3",
   "language": "python",
   "name": "python3"
  },
  "language_info": {
   "codemirror_mode": {
    "name": "ipython",
    "version": 3
   },
   "file_extension": ".py",
   "mimetype": "text/x-python",
   "name": "python",
   "nbconvert_exporter": "python",
   "pygments_lexer": "ipython3",
   "version": "3.7.3"
  }
 },
 "nbformat": 4,
 "nbformat_minor": 2
}
