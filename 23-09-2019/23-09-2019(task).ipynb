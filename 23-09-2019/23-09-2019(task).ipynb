{
 "cells": [
  {
   "cell_type": "code",
   "execution_count": 31,
   "metadata": {},
   "outputs": [
    {
     "name": "stdout",
     "output_type": "stream",
     "text": [
      "resta$t\n"
     ]
    }
   ],
   "source": [
    "# 1.Write a Python program to get a string from a given string where all occurrences of its first char have\n",
    "# been changed to '$', except the first char itself. \n",
    "#Sample String : 'restart'\n",
    "# Expected Result : 'resta$t' \n",
    "s=\"restart\"\n",
    "a=s[0]\n",
    "b=s[1:len(s)]\n",
    "k=b.replace('r','$',)\n",
    "print(a+k)\n"
   ]
  },
  {
   "cell_type": "code",
   "execution_count": 54,
   "metadata": {},
   "outputs": [
    {
     "name": "stdout",
     "output_type": "stream",
     "text": [
      "28\n",
      "problem solving using python\n",
      "nohtyP gnisU gnivloS melborP\n",
      "['Problem', 'Solving', 'Using', 'Python']\n",
      "ProblemSolvingUsingPythonS\n",
      "1\n"
     ]
    }
   ],
   "source": [
    "#2.Take a string “Problem Solving Using Python” \n",
    "#Find the length of the string \n",
    "#Change the string to lowercase \n",
    "#Print the string in reverse order \n",
    "#Split the string\n",
    "#Print the string without spaces \n",
    "#Find how many times “s” is repeated in a given string \n",
    "x=\"Problem Solving Using Python\"\n",
    "print(len(x))\n",
    "print(x.lower())\n",
    "print(x[-1::-1])\n",
    "b=(x.split())\n",
    "print(b)\n",
    "for i in range(0,len(b)):\n",
    "    print(b[i],end=\"\")\n",
    "k=print(x[8])\n",
    "print(x.count('s'))"
   ]
  },
  {
   "cell_type": "code",
   "execution_count": 24,
   "metadata": {},
   "outputs": [
    {
     "name": "stdout",
     "output_type": "stream",
     "text": [
      "python\n",
      "2\n"
     ]
    }
   ],
   "source": [
    "#3.Take a string “python programming by python platforms”\n",
    "#Find how many times “python” is repeated\n",
    "m=\"python programming by python platforms\"\n",
    "k=print(m[0:6])\n",
    "print(m.count('python'))"
   ]
  },
  {
   "cell_type": "code",
   "execution_count": null,
   "metadata": {},
   "outputs": [],
   "source": []
  },
  {
   "cell_type": "code",
   "execution_count": null,
   "metadata": {},
   "outputs": [],
   "source": []
  }
 ],
 "metadata": {
  "kernelspec": {
   "display_name": "Python 3",
   "language": "python",
   "name": "python3"
  },
  "language_info": {
   "codemirror_mode": {
    "name": "ipython",
    "version": 3
   },
   "file_extension": ".py",
   "mimetype": "text/x-python",
   "name": "python",
   "nbconvert_exporter": "python",
   "pygments_lexer": "ipython3",
   "version": "3.7.3"
  }
 },
 "nbformat": 4,
 "nbformat_minor": 2
}
