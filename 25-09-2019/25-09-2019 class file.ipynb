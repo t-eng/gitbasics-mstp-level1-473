{
 "cells": [
  {
   "cell_type": "code",
   "execution_count": 12,
   "metadata": {},
   "outputs": [
    {
     "name": "stdout",
     "output_type": "stream",
     "text": [
      "153\n",
      "153\n",
      "armstrong\n"
     ]
    }
   ],
   "source": [
    "# program to check wether the given number is armstrong r not\n",
    "def armstrong(n):\n",
    "    sum=0\n",
    "    m=n\n",
    "    while(n!=0):\n",
    "        a=(n%10)\n",
    "        sum=sum+(a**3)\n",
    "        n=n//10\n",
    "    print(sum)\n",
    "    if(sum==m):\n",
    "        print(\"armstrong\")\n",
    "    else:\n",
    "        print(\"not armstrong\")\n",
    "n=int(input())\n",
    "armstrong(n)"
   ]
  },
  {
   "cell_type": "code",
   "execution_count": 15,
   "metadata": {},
   "outputs": [
    {
     "name": "stdout",
     "output_type": "stream",
     "text": [
      "5\n",
      "0\n",
      "1\n",
      "3\n",
      "6\n",
      "10\n",
      "15\n"
     ]
    }
   ],
   "source": [
    "# find sum of digits of a given number\n",
    "def digitsum (k):\n",
    "    sum=0\n",
    "    for i in range (0,k+1):\n",
    "        sum=sum+i\n",
    "        print(sum)\n",
    "k=int(input()) \n",
    "digitsum(k)\n"
   ]
  },
  {
   "cell_type": "code",
   "execution_count": 19,
   "metadata": {},
   "outputs": [
    {
     "name": "stdout",
     "output_type": "stream",
     "text": [
      "4\n",
      "9\n",
      "5 7 "
     ]
    }
   ],
   "source": [
    "# Function to generate all the prime numbers in given range\n",
    "def prime(lb):\n",
    "    count=0\n",
    "    for i in range (1,lb+1):\n",
    "        if lb%i==0:\n",
    "            count=count+1\n",
    "    if count==2:\n",
    "        # return 1\n",
    "        # else\n",
    "        # return 0(no print statement)\n",
    "        print(i,end=\" \")\n",
    "        \n",
    "lb=int(input())\n",
    "ub=int(input())\n",
    "for j in range (lb,ub+1):\n",
    "    prime(j)\n",
    "   #if prime(j)==1:\n",
    "   # print(j,end=\" \")"
   ]
  },
  {
   "cell_type": "code",
   "execution_count": 8,
   "metadata": {},
   "outputs": [
    {
     "name": "stdout",
     "output_type": "stream",
     "text": [
      "1\n",
      "10\n",
      "2\n",
      "4\n",
      "6\n",
      "8\n",
      "10\n"
     ]
    }
   ],
   "source": [
    "# function to print all the even nmbers in range\n",
    "def evenrange (n):\n",
    "          if n%2==0:\n",
    "            print(n)\n",
    "n=int(input())\n",
    "m=int(input())\n",
    "for j in range (n,m+1):\n",
    "    evenrange(j)\n",
    "    "
   ]
  },
  {
   "cell_type": "code",
   "execution_count": 19,
   "metadata": {},
   "outputs": [
    {
     "name": "stdout",
     "output_type": "stream",
     "text": [
      "10\n",
      "20\n",
      "12\n",
      "18\n"
     ]
    }
   ],
   "source": [
    "# print all the numbers divisible by 6 and not factor of 100\n",
    "def divisible(n):\n",
    "    if(n%6==0 and 100%n!=0):\n",
    "        print(n)\n",
    "n=int(input())\n",
    "m=int(input())\n",
    "for j in range (n,m+1):\n",
    "    divisible(j)"
   ]
  },
  {
   "cell_type": "code",
   "execution_count": null,
   "metadata": {},
   "outputs": [],
   "source": []
  }
 ],
 "metadata": {
  "kernelspec": {
   "display_name": "Python 3",
   "language": "python",
   "name": "python3"
  },
  "language_info": {
   "codemirror_mode": {
    "name": "ipython",
    "version": 3
   },
   "file_extension": ".py",
   "mimetype": "text/x-python",
   "name": "python",
   "nbconvert_exporter": "python",
   "pygments_lexer": "ipython3",
   "version": "3.7.3"
  }
 },
 "nbformat": 4,
 "nbformat_minor": 2
}
