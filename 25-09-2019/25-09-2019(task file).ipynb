{
 "cells": [
  {
   "cell_type": "code",
   "execution_count": null,
   "metadata": {},
   "outputs": [],
   "source": [
    "#3..Function to find the average of cubes of all even numbers in a \n",
    "#given range(lb, ub) inclusive\n"
   ]
  },
  {
   "cell_type": "code",
   "execution_count": 5,
   "metadata": {},
   "outputs": [
    {
     "name": "stdout",
     "output_type": "stream",
     "text": [
      "407\n",
      "407\n",
      "armstrong---- 407\n",
      "odd\n"
     ]
    }
   ],
   "source": [
    "#Function to generate N odd armstrong number\n",
    "def oddarmstrong(n):\n",
    "    s=0\n",
    "    m=n\n",
    "    for i in range (1,n+1):\n",
    "        r=n%10\n",
    "        s=s+r**3\n",
    "        n=n//10\n",
    "    print(s)\n",
    "    if(s==m):\n",
    "        print(\"armstrong----\",s)\n",
    "        if(s%2!=0):\n",
    "            print(\"odd\")\n",
    "n=int(input())\n",
    "oddarmstrong(n)\n",
    "        "
   ]
  },
  {
   "cell_type": "code",
   "execution_count": 17,
   "metadata": {},
   "outputs": [
    {
     "ename": "IndentationError",
     "evalue": "expected an indented block (<ipython-input-17-f7aac633da61>, line 8)",
     "output_type": "error",
     "traceback": [
      "\u001b[1;36m  File \u001b[1;32m\"<ipython-input-17-f7aac633da61>\"\u001b[1;36m, line \u001b[1;32m8\u001b[0m\n\u001b[1;33m    print(\"perfectnumbers ---\",k)\u001b[0m\n\u001b[1;37m    ^\u001b[0m\n\u001b[1;31mIndentationError\u001b[0m\u001b[1;31m:\u001b[0m expected an indented block\n"
     ]
    }
   ],
   "source": [
    "##### program to print all the sum of perfect numbers in a given range\n",
    "def perfect(k):\n",
    "    m=0\n",
    "    for i in range (1,K+1):\n",
    "        if(k%i==0):\n",
    "            m=m+i\n",
    "        if(m==k):\n",
    "    print(\"perfectnumbers ---\",k)\n",
    "k=int(input())\n",
    "ub=int(input())\n",
    "for j in range (k,ub+1):\n",
    "    perfect(j)\n",
    "\n",
    "            "
   ]
  },
  {
   "cell_type": "code",
   "execution_count": 6,
   "metadata": {},
   "outputs": [
    {
     "name": "stdout",
     "output_type": "stream",
     "text": [
      "2\n",
      "7\n",
      "72\n"
     ]
    }
   ],
   "source": [
    "## .Function to find the average of cubes of all even numbers in a \n",
    "#given range(lb, ub) inclusive\n",
    "k=int(input())\n",
    "l=int(input())\n",
    "def cubes(k,l):\n",
    "    num=0\n",
    "    count=0\n",
    "    for i in range (k,l):\n",
    "        if (i%2==0):\n",
    "            a=i**3\n",
    "            num=num+a\n",
    "            count=count+1\n",
    "    print(a//count)\n",
    "cubes(k,l)"
   ]
  },
  {
   "cell_type": "code",
   "execution_count": null,
   "metadata": {},
   "outputs": [],
   "source": []
  }
 ],
 "metadata": {
  "kernelspec": {
   "display_name": "Python 3",
   "language": "python",
   "name": "python3"
  }
 },
 "nbformat": 4,
 "nbformat_minor": 2
}
