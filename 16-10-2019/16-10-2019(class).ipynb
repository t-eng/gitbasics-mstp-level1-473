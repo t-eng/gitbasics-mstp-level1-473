{
 "cells": [
  {
   "cell_type": "code",
   "execution_count": 1,
   "metadata": {},
   "outputs": [],
   "source": [
    "file=\"mstp.txt\"\n",
    "def name(file):\n",
    "    with open (file,'w') as f:\n",
    "        f.write(\"kvsw\"+\",\"+\"kvsrit\"+\",\"+\"kvsm\")\n",
    "name(file)"
   ]
  },
  {
   "cell_type": "code",
   "execution_count": 5,
   "metadata": {},
   "outputs": [],
   "source": [
    "s=\"\\n\"+\"manisha\"+\",\"+\"chandu\"+\",\"\"nikki\"\n",
    "with open (file,'a') as f:\n",
    "    f.write(s)"
   ]
  },
  {
   "cell_type": "code",
   "execution_count": 8,
   "metadata": {},
   "outputs": [
    {
     "name": "stdout",
     "output_type": "stream",
     "text": [
      "manisha,chandu,nikki\n"
     ]
    }
   ],
   "source": [
    "with open (file,'r') as f:\n",
    "    s=f.readlines()\n",
    "    print(s[1])\n",
    "    "
   ]
  },
  {
   "cell_type": "code",
   "execution_count": 14,
   "metadata": {},
   "outputs": [],
   "source": [
    "file=\"smaple.txt\"\n",
    "with open (file,'a') as f:\n",
    "    f.write(\"name\"+\",\"+\"9908698573\"+\",\"+\"manishareddy9491@gmail.com\\n\")\n",
    "    f.write(\"manisha\"+\",\"+\"8899776655\"+\",\"+\"nikila675@gmail.com\")\n",
    "    "
   ]
  },
  {
   "cell_type": "code",
   "execution_count": 22,
   "metadata": {},
   "outputs": [
    {
     "name": "stdout",
     "output_type": "stream",
     "text": [
      "[['name', '9908698573', 'manishareddy9491@gmail.com\\n'], ['manisha', '8899776655', 'nikila675@gmail.com']]\n",
      "8899776655\n",
      "manishareddy9491@gmail.com\n",
      "\n"
     ]
    }
   ],
   "source": [
    "### convert csv to list\n",
    "def csvtolist(file):\n",
    "    l=[]\n",
    "    with open (file,'r') as f:\n",
    "        for line in f:\n",
    "            l.append(line.split(\",\"))\n",
    "    print(l)\n",
    "    print(l[1][1])\n",
    "    print(l[0][2])\n",
    "csvtolist(file)\n",
    "    "
   ]
  },
  {
   "cell_type": "code",
   "execution_count": 23,
   "metadata": {},
   "outputs": [
    {
     "data": {
      "text/plain": [
       "[['name', '9908698573', 'manishareddy9491@gmail.com\\n'],\n",
       " ['manisha', '8899776655', 'nikila675@gmail.com']]"
      ]
     },
     "execution_count": 23,
     "metadata": {},
     "output_type": "execute_result"
    }
   ],
   "source": [
    "def csvtolist(file):\n",
    "    l=[]\n",
    "    with open (file,'r') as f:\n",
    "        for line in f:\n",
    "            l.append(line.split(\",\"))\n",
    "    return l \n",
    "csvtolist(file)\n",
    "    "
   ]
  },
  {
   "cell_type": "code",
   "execution_count": 25,
   "metadata": {},
   "outputs": [
    {
     "name": "stdout",
     "output_type": "stream",
     "text": [
      "name,9908698573,manishareddy9491@gmail.com\n",
      "manisha,8899776655,nikila675@gmail.com\n"
     ]
    }
   ],
   "source": [
    "def csvtolist(file):\n",
    "    l=[]\n",
    "    with open (file,'r') as f:\n",
    "        for line in f:\n",
    "            l.append(line.split(\",\"))\n",
    "    return l \n",
    "csvtolist(file)\n",
    "def listtocsv(file):\n",
    "    d=csvtolist(file)\n",
    "    s=\"\"\n",
    "    for i in d:\n",
    "        s+=\",\".join(i)\n",
    "    print(s)\n",
    "listtocsv(file)"
   ]
  },
  {
   "cell_type": "code",
   "execution_count": 57,
   "metadata": {},
   "outputs": [
    {
     "name": "stdout",
     "output_type": "stream",
     "text": [
      "contact added successfully\n"
     ]
    }
   ],
   "source": [
    "import re\n",
    "def phnovalidition(no):\n",
    "    pattern='[9876][0-9]{9}$|[0][6-9][0-9]{9}$|^[+][9][1][6-9][0-9]{9}$'\n",
    "    if re.match(pattern,str(no)):\n",
    "        return True\n",
    "    else:\n",
    "        return False\n",
    "def emailvalidition(n):\n",
    "    pattern='^([0-9]|[a-z]|[A-Z])([0-9]|[a-z]|[A-Z]|[_]){6,14}([0-9]|[a-z]|[A-Z])@([a-z]|[A-Z]){1,10}[.][a-z]{2,4}$'\n",
    "    if re.match(pattern,str(n)):\n",
    "        return True\n",
    "    else:\n",
    "        return False\n",
    "def searchcontact(name,file):\n",
    "    s=csvtolist(file)\n",
    "    for i in s:\n",
    "        if i[0]==name:\n",
    "            return 1\n",
    "    return 0\n",
    "searchcontact(\"nikila\",\"smaple.txt\")\n",
    "def addcontact(name,no,email,file):\n",
    "    if searchcontact(name,file)==0:\n",
    "        if phnovalidition(no)==1:\n",
    "            if emailvalidition(email)==1:\n",
    "                with open (file,'a')as f:\n",
    "                    f.write(\"\\n\"+name+\",\"+no+\",\"+email)\n",
    "                    print(\"contact added successfully\")\n",
    "    else:\n",
    "        print(\"contact already exists\")\n",
    "addcontact(\"nikila\",\"9909874389\",\"mallimanisa123@gmail.com\",\"smaple.txt\")"
   ]
  },
  {
   "cell_type": "markdown",
   "metadata": {},
   "source": [
    "### Functional programming"
   ]
  },
  {
   "cell_type": "code",
   "execution_count": 58,
   "metadata": {},
   "outputs": [],
   "source": [
    "# c--procedural language\n",
    "# java,python,php"
   ]
  },
  {
   "cell_type": "code",
   "execution_count": 62,
   "metadata": {},
   "outputs": [
    {
     "name": "stdout",
     "output_type": "stream",
     "text": [
      "5\n",
      "1 2 3 4 5 "
     ]
    }
   ],
   "source": [
    "## print first n natural numbers\n",
    "n=int(input())\n",
    "for i in range (1,n+1):\n",
    "    print(i,end=\" \")"
   ]
  },
  {
   "cell_type": "code",
   "execution_count": 64,
   "metadata": {},
   "outputs": [],
   "source": [
    "##List comprehension \n",
    "#===>expression for list in item condition"
   ]
  },
  {
   "cell_type": "code",
   "execution_count": 65,
   "metadata": {},
   "outputs": [
    {
     "name": "stdout",
     "output_type": "stream",
     "text": [
      "6\n"
     ]
    },
    {
     "data": {
      "text/plain": [
       "[1, 2, 3, 4, 5, 6]"
      ]
     },
     "execution_count": 65,
     "metadata": {},
     "output_type": "execute_result"
    }
   ],
   "source": [
    "n=int(input())\n",
    "l=[i for i in range(1,n+1)]\n",
    "l"
   ]
  },
  {
   "cell_type": "code",
   "execution_count": 67,
   "metadata": {},
   "outputs": [
    {
     "name": "stdout",
     "output_type": "stream",
     "text": [
      "a p s s d c "
     ]
    }
   ],
   "source": [
    "x=\"apssdc\"\n",
    "for i in x:\n",
    "    print(i,end=\" \")"
   ]
  },
  {
   "cell_type": "code",
   "execution_count": 68,
   "metadata": {},
   "outputs": [
    {
     "data": {
      "text/plain": [
       "['a', 'p', 's', 's', 'd', 'c']"
      ]
     },
     "execution_count": 68,
     "metadata": {},
     "output_type": "execute_result"
    }
   ],
   "source": [
    "l=[i for i in x]\n",
    "l"
   ]
  },
  {
   "cell_type": "code",
   "execution_count": 70,
   "metadata": {},
   "outputs": [
    {
     "data": {
      "text/plain": [
       "'GOOGLE.COM'"
      ]
     },
     "execution_count": 70,
     "metadata": {},
     "output_type": "execute_result"
    }
   ],
   "source": [
    "s=\"google.com\"\n",
    "a=s.upper()\n",
    "a"
   ]
  },
  {
   "cell_type": "code",
   "execution_count": 73,
   "metadata": {},
   "outputs": [
    {
     "data": {
      "text/plain": [
       "['G', 'O', 'O', 'G', 'L', 'E', '.', 'C', 'O', 'M']"
      ]
     },
     "execution_count": 73,
     "metadata": {},
     "output_type": "execute_result"
    }
   ],
   "source": [
    "f=[i.upper() for i in s]\n",
    "f"
   ]
  },
  {
   "cell_type": "code",
   "execution_count": 74,
   "metadata": {},
   "outputs": [
    {
     "name": "stdout",
     "output_type": "stream",
     "text": [
      "1 2 3 1 2 "
     ]
    }
   ],
   "source": [
    "x=\"123acds12\"\n",
    "for i in x:\n",
    "    if i.isdigit():\n",
    "        print(i,end=\" \")"
   ]
  },
  {
   "cell_type": "code",
   "execution_count": 75,
   "metadata": {},
   "outputs": [
    {
     "data": {
      "text/plain": [
       "['a', 'c', 'd', 's']"
      ]
     },
     "execution_count": 75,
     "metadata": {},
     "output_type": "execute_result"
    }
   ],
   "source": [
    "d=[n for n in x if n.isalpha()]\n",
    "d"
   ]
  },
  {
   "cell_type": "code",
   "execution_count": 77,
   "metadata": {},
   "outputs": [
    {
     "data": {
      "text/plain": [
       "['1', '2', '3', '1', '2']"
      ]
     },
     "execution_count": 77,
     "metadata": {},
     "output_type": "execute_result"
    }
   ],
   "source": [
    "k=[m for m in x if m.isdigit()]\n",
    "k"
   ]
  },
  {
   "cell_type": "code",
   "execution_count": 101,
   "metadata": {},
   "outputs": [
    {
     "name": "stdout",
     "output_type": "stream",
     "text": [
      "6\n",
      "[1.0, 1.4142135623730951, 1.7320508075688772, 2.0, 2.23606797749979, 2.449489742783178]\n"
     ]
    }
   ],
   "source": [
    "n=int(input())\n",
    "l=[]\n",
    "for i in range(1,n+1):\n",
    "    k=(i**(1/2))\n",
    "    l.append(k)\n",
    "print(l)"
   ]
  },
  {
   "cell_type": "code",
   "execution_count": 98,
   "metadata": {},
   "outputs": [
    {
     "name": "stdout",
     "output_type": "stream",
     "text": [
      "5\n"
     ]
    },
    {
     "data": {
      "text/plain": [
       "[1.0, 1.4142135623730951, 1.7320508075688772, 2.0, 2.23606797749979]"
      ]
     },
     "execution_count": 98,
     "metadata": {},
     "output_type": "execute_result"
    }
   ],
   "source": [
    "n=int(input())\n",
    "k=[m**(1/2) for m in range(1,n+1) ]\n",
    "k"
   ]
  },
  {
   "cell_type": "code",
   "execution_count": 106,
   "metadata": {},
   "outputs": [
    {
     "name": "stdout",
     "output_type": "stream",
     "text": [
      "4\n"
     ]
    },
    {
     "data": {
      "text/plain": [
       "[2.0, 2.0, 2.0, 2.0]"
      ]
     },
     "execution_count": 106,
     "metadata": {},
     "output_type": "execute_result"
    }
   ],
   "source": [
    "k=int(input())\n",
    "o=[math.sqrt(k) for i in range(1,k+1)]\n",
    "o\n",
    "                               "
   ]
  },
  {
   "cell_type": "code",
   "execution_count": 118,
   "metadata": {},
   "outputs": [
    {
     "name": "stdout",
     "output_type": "stream",
     "text": [
      "[441, 484, 529, 576, 625, 676, 729, 784, 841, 900]\n"
     ]
    }
   ],
   "source": [
    "l=[]\n",
    "for i in range(21,31):\n",
    "    k=i*i\n",
    "    l.append(k)\n",
    "print(l)\n",
    "      "
   ]
  },
  {
   "cell_type": "code",
   "execution_count": 115,
   "metadata": {},
   "outputs": [
    {
     "data": {
      "text/plain": [
       "[441, 484, 529, 576, 625, 676, 729, 784, 841, 900]"
      ]
     },
     "execution_count": 115,
     "metadata": {},
     "output_type": "execute_result"
    }
   ],
   "source": [
    "k=[i*i for i in range(21,31)]\n",
    "k"
   ]
  },
  {
   "cell_type": "code",
   "execution_count": 120,
   "metadata": {},
   "outputs": [
    {
     "data": {
      "text/plain": [
       "[8000, 9261, 10648, 12167, 13824, 15625, 17576, 19683, 21952, 24389]"
      ]
     },
     "execution_count": 120,
     "metadata": {},
     "output_type": "execute_result"
    }
   ],
   "source": [
    "## cubes of a number\n",
    "m=[i**3 for i in range(20,30)]\n",
    "m"
   ]
  },
  {
   "cell_type": "code",
   "execution_count": 135,
   "metadata": {},
   "outputs": [
    {
     "name": "stdout",
     "output_type": "stream",
     "text": [
      "7\n",
      "[1, 2, 6, 24, 120, 720, 5040]\n"
     ]
    }
   ],
   "source": [
    "## function to find the factorial of a given number\n",
    "def factorial(n):\n",
    "    l=[]\n",
    "    a=1\n",
    "    for i in range(1,n+1):\n",
    "        a=a*i\n",
    "        l.append(a)\n",
    "    print(l)\n",
    "    \n",
    "n=int(input())\n",
    "factorial(n)    "
   ]
  },
  {
   "cell_type": "code",
   "execution_count": 142,
   "metadata": {},
   "outputs": [
    {
     "name": "stdout",
     "output_type": "stream",
     "text": [
      "[1]\n",
      "[1, 2]\n",
      "[1, 2, 6]\n",
      "[1, 2, 6, 24]\n",
      "[1, 2, 6, 24, 120]\n",
      "[1, 2, 6, 24, 120, 720]\n",
      "[1, 2, 6, 24, 120, 720, 5040]\n"
     ]
    }
   ],
   "source": [
    "ft=[factorial(i) for i in range(1,n+1)]"
   ]
  },
  {
   "cell_type": "code",
   "execution_count": 155,
   "metadata": {},
   "outputs": [
    {
     "name": "stdout",
     "output_type": "stream",
     "text": [
      "11\n",
      "12\n",
      "13\n",
      "14\n",
      "15\n",
      "16\n",
      "17\n",
      "18\n",
      "19\n",
      "20\n"
     ]
    }
   ],
   "source": [
    "# Even and odd\n",
    "def even(n):\n",
    "    for i in range(11,21):\n",
    "        if i%2==0:\n",
    "            print(i)\n",
    "        else:\n",
    "            print(i)\n",
    "even(n)        "
   ]
  },
  {
   "cell_type": "code",
   "execution_count": 149,
   "metadata": {},
   "outputs": [
    {
     "data": {
      "text/plain": [
       "[12, 14, 16, 18, 20]"
      ]
     },
     "execution_count": 149,
     "metadata": {},
     "output_type": "execute_result"
    }
   ],
   "source": [
    "m=[i for i in range(11,21) if i%2==0]\n",
    "m"
   ]
  },
  {
   "cell_type": "code",
   "execution_count": 150,
   "metadata": {},
   "outputs": [
    {
     "data": {
      "text/plain": [
       "[11, 13, 15, 17, 19]"
      ]
     },
     "execution_count": 150,
     "metadata": {},
     "output_type": "execute_result"
    }
   ],
   "source": [
    "m=[i for i in range(11,21) if i%2!=0]\n",
    "m"
   ]
  },
  {
   "cell_type": "code",
   "execution_count": 157,
   "metadata": {},
   "outputs": [
    {
     "data": {
      "text/plain": [
       "['odd', 'even', 'odd', 'even', 'odd', 'even', 'odd', 'even', 'odd', 'even']"
      ]
     },
     "execution_count": 157,
     "metadata": {},
     "output_type": "execute_result"
    }
   ],
   "source": [
    "h=[\"even\" if i%2==0 else \"odd\" for i in range(11,21)]\n",
    "h"
   ]
  },
  {
   "cell_type": "code",
   "execution_count": 173,
   "metadata": {},
   "outputs": [
    {
     "data": {
      "text/plain": [
       "[2000, 2004, 2008, 2012, 2016, 2020]"
      ]
     },
     "execution_count": 173,
     "metadata": {},
     "output_type": "execute_result"
    }
   ],
   "source": [
    "w=[i for i in range(2000,2021) if i%4==0 and i%100!=0 or i%400==0]\n",
    "w"
   ]
  },
  {
   "cell_type": "markdown",
   "metadata": {},
   "source": [
    "### Lambda"
   ]
  },
  {
   "cell_type": "code",
   "execution_count": 175,
   "metadata": {},
   "outputs": [
    {
     "name": "stdout",
     "output_type": "stream",
     "text": [
      "16\n"
     ]
    }
   ],
   "source": [
    "## Anonymous function\n",
    "## Syntax -------->  lambda arguments:expression\n",
    "d=lambda n:n**2\n",
    "print(d(4))"
   ]
  },
  {
   "cell_type": "code",
   "execution_count": 177,
   "metadata": {},
   "outputs": [
    {
     "name": "stdout",
     "output_type": "stream",
     "text": [
      "125\n"
     ]
    }
   ],
   "source": [
    "k=lambda m:m**3\n",
    "print(k(5))"
   ]
  },
  {
   "cell_type": "code",
   "execution_count": 179,
   "metadata": {},
   "outputs": [
    {
     "name": "stdout",
     "output_type": "stream",
     "text": [
      "[1, 4, 9, 16, 25]\n"
     ]
    }
   ],
   "source": [
    "l=[1,2,3,4,5]\n",
    "k=[]\n",
    "for j in range(len(l)):\n",
    "    a=l[j]**2\n",
    "    k.append(a)\n",
    "print(k)"
   ]
  },
  {
   "cell_type": "code",
   "execution_count": 180,
   "metadata": {},
   "outputs": [
    {
     "data": {
      "text/plain": [
       "[1, 4, 9, 16, 25]"
      ]
     },
     "execution_count": 180,
     "metadata": {},
     "output_type": "execute_result"
    }
   ],
   "source": [
    "a=[l[i]**2 for i in range(len(l))]\n",
    "a"
   ]
  },
  {
   "cell_type": "markdown",
   "metadata": {},
   "source": [
    "### Iterators"
   ]
  },
  {
   "cell_type": "code",
   "execution_count": 184,
   "metadata": {},
   "outputs": [
    {
     "name": "stdout",
     "output_type": "stream",
     "text": [
      "1\n",
      "2\n",
      "3\n",
      "4\n",
      "5\n",
      "6\n"
     ]
    }
   ],
   "source": [
    "# iter(),next()\n",
    "l=[1,2,3,4,5,6]\n",
    "a=iter(l)\n",
    "print(next(a))\n",
    "print(next(a))\n",
    "print(next(a))\n",
    "print(next(a))\n",
    "print(next(a))\n",
    "print(next(a))\n"
   ]
  },
  {
   "cell_type": "markdown",
   "metadata": {},
   "source": [
    "## Generators"
   ]
  },
  {
   "cell_type": "code",
   "execution_count": 191,
   "metadata": {},
   "outputs": [
    {
     "name": "stdout",
     "output_type": "stream",
     "text": [
      "6\n",
      "8\n",
      "5\n",
      "7\n"
     ]
    }
   ],
   "source": [
    "## yeild(),next()\n",
    "def add(a,b):\n",
    "    c=a+b\n",
    "    yield c\n",
    "    a+=1\n",
    "    b+=1\n",
    "    c=a+b\n",
    "    yield c\n",
    "k=add(2,4)\n",
    "print(next(k))\n",
    "print(next(k))\n",
    "for i in add(2,3):\n",
    "    print(i)\n"
   ]
  },
  {
   "cell_type": "markdown",
   "metadata": {},
   "source": [
    "## Map"
   ]
  },
  {
   "cell_type": "code",
   "execution_count": 195,
   "metadata": {},
   "outputs": [
    {
     "name": "stdout",
     "output_type": "stream",
     "text": [
      "[1, 4, 9, 16, 25]\n"
     ]
    }
   ],
   "source": [
    "## syntax----> map(fun,iterable)\n",
    "def square(n):\n",
    "    return n**2\n",
    "l=[1,2,3,4,5]\n",
    "print(list(map(square,l)))"
   ]
  },
  {
   "cell_type": "code",
   "execution_count": 196,
   "metadata": {},
   "outputs": [
    {
     "name": "stdout",
     "output_type": "stream",
     "text": [
      "[1, 4, 9, 16, 25, 36, 49]\n"
     ]
    }
   ],
   "source": [
    "l=[1,2,3,4,5,6,7]\n",
    "print(list(map(lambda x:x**2,l)))"
   ]
  },
  {
   "cell_type": "code",
   "execution_count": 197,
   "metadata": {},
   "outputs": [
    {
     "name": "stdout",
     "output_type": "stream",
     "text": [
      "[3, 5, 7, 10]\n"
     ]
    }
   ],
   "source": [
    "t=(1,2,3,4)\n",
    "t1=(2,3,4,6)\n",
    "print(list(map(lambda a,b:a+b,t,t1 )))"
   ]
  },
  {
   "cell_type": "markdown",
   "metadata": {},
   "source": [
    "## Filter"
   ]
  },
  {
   "cell_type": "code",
   "execution_count": 200,
   "metadata": {},
   "outputs": [
    {
     "data": {
      "text/plain": [
       "[2, 4, 6, 8]"
      ]
     },
     "execution_count": 200,
     "metadata": {},
     "output_type": "execute_result"
    }
   ],
   "source": [
    "##syntax----> filter(fun,iterable)\n",
    "l=[1,2,3,4,5,6,7,8,9]\n",
    "a=list(filter(lambda x:x%2==0,l))\n",
    "a"
   ]
  },
  {
   "cell_type": "code",
   "execution_count": 209,
   "metadata": {},
   "outputs": [
    {
     "name": "stdout",
     "output_type": "stream",
     "text": [
      "1 2 3 "
     ]
    }
   ],
   "source": [
    "k=[1,2,3,'a','b']\n",
    "l=[]\n",
    "def num(k): \n",
    "    for i in k:\n",
    "        if str(i).isdigit():\n",
    "            l.append(i)\n",
    "            print(i,end=\" \")\n",
    "num(k)"
   ]
  },
  {
   "cell_type": "code",
   "execution_count": 216,
   "metadata": {},
   "outputs": [
    {
     "data": {
      "text/plain": [
       "[1, 2, 3]"
      ]
     },
     "execution_count": 216,
     "metadata": {},
     "output_type": "execute_result"
    }
   ],
   "source": [
    "def digit(k):\n",
    "    if str(k).isdigit():\n",
    "            return True\n",
    "    return False\n",
    "a=list(filter(digit,l))\n",
    "a"
   ]
  },
  {
   "cell_type": "code",
   "execution_count": 232,
   "metadata": {},
   "outputs": [
    {
     "data": {
      "text/plain": [
       "[0, 1, 2, 3, 4, 5, 6, 7, 8, 9, 10]"
      ]
     },
     "execution_count": 232,
     "metadata": {},
     "output_type": "execute_result"
    }
   ],
   "source": [
    "l=list(range(11))\n",
    "l"
   ]
  },
  {
   "cell_type": "code",
   "execution_count": 234,
   "metadata": {},
   "outputs": [
    {
     "name": "stdout",
     "output_type": "stream",
     "text": [
      "[2, 3, 5, 7]\n"
     ]
    }
   ],
   "source": [
    "# l=[1,2,3,4,5,6,7,8,9,10]\n",
    "#l=list(range(11))\n",
    "def prime(n):\n",
    "    fact=0\n",
    "    for i in range(1,n+1):\n",
    "        if n%i==0:\n",
    "            fact+=1\n",
    "    if fact==2:\n",
    "        return 1\n",
    "    return 0\n",
    "print(list(filter(prime,l)))\n",
    "\n",
    "       \n",
    "        \n"
   ]
  },
  {
   "cell_type": "code",
   "execution_count": null,
   "metadata": {},
   "outputs": [],
   "source": []
  }
 ],
 "metadata": {
  "kernelspec": {
   "display_name": "Python 3",
   "language": "python",
   "name": "python3"
  },
  "language_info": {
   "codemirror_mode": {
    "name": "ipython",
    "version": 3
   },
   "file_extension": ".py",
   "mimetype": "text/x-python",
   "name": "python",
   "nbconvert_exporter": "python",
   "pygments_lexer": "ipython3",
   "version": "3.7.3"
  }
 },
 "nbformat": 4,
 "nbformat_minor": 2
}
