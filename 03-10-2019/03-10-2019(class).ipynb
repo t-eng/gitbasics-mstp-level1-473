{
 "cells": [
  {
   "cell_type": "markdown",
   "metadata": {},
   "source": [
    "### File handiling"
   ]
  },
  {
   "cell_type": "markdown",
   "metadata": {},
   "source": [
    "### modes in file handiling\n",
    "##Read--->r\n",
    "##Write--->w\n",
    "##Append-->a\n",
    "##readwrite--->r+\n",
    "##write&read--->w+\n",
    "##append&read--->a+\n",
    "##Exclusive write---->x"
   ]
  },
  {
   "cell_type": "code",
   "execution_count": 3,
   "metadata": {},
   "outputs": [],
   "source": [
    "#File opening\n",
    "#x=open(\"filename.txt\",\"mode\")\n"
   ]
  },
  {
   "cell_type": "code",
   "execution_count": 21,
   "metadata": {},
   "outputs": [],
   "source": [
    "# create a file and add some content\n",
    "a=open(\"sample.txt\",\"w\")\n",
    "a.write(\"hello world\\n\")\n",
    "a.write(\"apssdc\\n\")\n",
    "a.write(\"Welcome python\")\n",
    "a.close()"
   ]
  },
  {
   "cell_type": "code",
   "execution_count": 23,
   "metadata": {},
   "outputs": [
    {
     "name": "stdout",
     "output_type": "stream",
     "text": [
      "hello world\n",
      "apssdc\n",
      "Welcome python\n"
     ]
    }
   ],
   "source": [
    "## Printing the content of a file\n",
    "b=open(\"sample.txt\",'r')\n",
    "c=b.read()\n",
    "print(c)\n",
    "b.close()"
   ]
  },
  {
   "cell_type": "code",
   "execution_count": 45,
   "metadata": {},
   "outputs": [
    {
     "name": "stdout",
     "output_type": "stream",
     "text": [
      "manisha\n",
      "manisha\n",
      "welcome\n"
     ]
    }
   ],
   "source": [
    "def read(b):\n",
    "    b=open(\"sample.txt\",'r')\n",
    "    c=b.read()\n",
    "    print(c)\n",
    "b=\"sample.txt\"\n",
    "read(b)"
   ]
  },
  {
   "cell_type": "code",
   "execution_count": 46,
   "metadata": {},
   "outputs": [],
   "source": [
    "def write_data(x):\n",
    "    x=open(\"hello.txt\",'w')\n",
    "    x.write(\"mstp apssdc\")\n",
    "    x.close()\n",
    "x=\"hello.txt\"\n",
    "write_data(x)"
   ]
  },
  {
   "cell_type": "code",
   "execution_count": 49,
   "metadata": {},
   "outputs": [],
   "source": [
    "def apend_data(y):\n",
    "    y=open(\"hello.txt\",'a')\n",
    "    y.write(\"\\nmanisha\")\n",
    "    y.write(\"\\nwelcome\")\n",
    "    y.close()\n",
    "y=\"hello.txt\"\n",
    "apend_data(y)"
   ]
  },
  {
   "cell_type": "code",
   "execution_count": 51,
   "metadata": {},
   "outputs": [
    {
     "name": "stdout",
     "output_type": "stream",
     "text": [
      "mstp apssdc\n",
      "manisha\n",
      "welcome\n"
     ]
    }
   ],
   "source": [
    "def read_file(file):\n",
    "    file=open(\"hello.txt\",'r')\n",
    "    c=file.read()\n",
    "    print(c)\n",
    "read_file(file)"
   ]
  },
  {
   "cell_type": "code",
   "execution_count": 53,
   "metadata": {},
   "outputs": [
    {
     "name": "stdout",
     "output_type": "stream",
     "text": [
      "mstp apssdc\n",
      "\n"
     ]
    }
   ],
   "source": [
    "f=open(\"hello.txt\",'r')\n",
    "x=f.readline()\n",
    "print(x)"
   ]
  },
  {
   "cell_type": "code",
   "execution_count": 79,
   "metadata": {},
   "outputs": [
    {
     "name": "stdout",
     "output_type": "stream",
     "text": [
      "['mstp apssdc\\n', 'manisha\\n', 'welcome']\n",
      "mstp apssdc\n",
      " manisha\n",
      " welcome "
     ]
    }
   ],
   "source": [
    "## Accessing all the content line by line\n",
    "def access(f):\n",
    "    f=open(\"hello.txt\",'r')\n",
    "    x=f.readlines()\n",
    "    print(x)\n",
    "    for i in x:\n",
    "        print(i,end=\" \")\n",
    "f=\"hello.txt\"\n",
    "access(f)"
   ]
  },
  {
   "cell_type": "code",
   "execution_count": 96,
   "metadata": {},
   "outputs": [
    {
     "name": "stdout",
     "output_type": "stream",
     "text": [
      "3\n"
     ]
    }
   ],
   "source": [
    "#Lines count\n",
    "#character count\n",
    "#words count\n",
    "#file length\n",
    "def line_count(n):\n",
    "    with open(\"hello.txt\",'r') as n:\n",
    "    #with open(n,'r') as n:\n",
    "        count=0\n",
    "        m=n.readlines()\n",
    "        for i in m:\n",
    "            count+=1\n",
    "        print(count)\n",
    "n=\"hello.txt\" \n",
    "line_count(n)\n",
    "    "
   ]
  },
  {
   "cell_type": "code",
   "execution_count": 99,
   "metadata": {},
   "outputs": [
    {
     "name": "stdout",
     "output_type": "stream",
     "text": [
      "27\n"
     ]
    }
   ],
   "source": [
    "# character count\n",
    "def char_count(k):\n",
    "     with open(\"hello.txt\",'r') as k:\n",
    "            count=0\n",
    "            m=k.read()\n",
    "            for i in m:\n",
    "                count+=1\n",
    "            print(count)\n",
    "k=\"hello.txt\" \n",
    "char_count(n)\n",
    "    \n",
    "    "
   ]
  },
  {
   "cell_type": "code",
   "execution_count": 109,
   "metadata": {},
   "outputs": [
    {
     "ename": "AttributeError",
     "evalue": "'list' object has no attribute 'split'",
     "output_type": "error",
     "traceback": [
      "\u001b[1;31m---------------------------------------------------------------------------\u001b[0m",
      "\u001b[1;31mAttributeError\u001b[0m                            Traceback (most recent call last)",
      "\u001b[1;32m<ipython-input-109-68fa3aff4137>\u001b[0m in \u001b[0;36m<module>\u001b[1;34m\u001b[0m\n\u001b[0;32m      6\u001b[0m             \u001b[0mprint\u001b[0m\u001b[1;33m(\u001b[0m\u001b[0mlen\u001b[0m\u001b[1;33m(\u001b[0m\u001b[0mf\u001b[0m\u001b[1;33m)\u001b[0m\u001b[1;33m)\u001b[0m\u001b[1;33m\u001b[0m\u001b[1;33m\u001b[0m\u001b[0m\n\u001b[0;32m      7\u001b[0m \u001b[0mk\u001b[0m\u001b[1;33m=\u001b[0m\u001b[1;34m\"hello.txt\"\u001b[0m\u001b[1;33m\u001b[0m\u001b[1;33m\u001b[0m\u001b[0m\n\u001b[1;32m----> 8\u001b[1;33m \u001b[0mchar_count\u001b[0m\u001b[1;33m(\u001b[0m\u001b[0mn\u001b[0m\u001b[1;33m)\u001b[0m\u001b[1;33m\u001b[0m\u001b[1;33m\u001b[0m\u001b[0m\n\u001b[0m\u001b[0;32m      9\u001b[0m \u001b[1;33m\u001b[0m\u001b[0m\n",
      "\u001b[1;32m<ipython-input-109-68fa3aff4137>\u001b[0m in \u001b[0;36mchar_count\u001b[1;34m(k)\u001b[0m\n\u001b[0;32m      3\u001b[0m      \u001b[1;32mwith\u001b[0m \u001b[0mopen\u001b[0m\u001b[1;33m(\u001b[0m\u001b[1;34m\"hello.txt\"\u001b[0m\u001b[1;33m,\u001b[0m\u001b[1;34m'r'\u001b[0m\u001b[1;33m)\u001b[0m \u001b[1;32mas\u001b[0m \u001b[0mk\u001b[0m\u001b[1;33m:\u001b[0m\u001b[1;33m\u001b[0m\u001b[1;33m\u001b[0m\u001b[0m\n\u001b[0;32m      4\u001b[0m             \u001b[0mm\u001b[0m\u001b[1;33m=\u001b[0m\u001b[0mk\u001b[0m\u001b[1;33m.\u001b[0m\u001b[0mreadlines\u001b[0m\u001b[1;33m(\u001b[0m\u001b[1;33m)\u001b[0m\u001b[1;33m\u001b[0m\u001b[1;33m\u001b[0m\u001b[0m\n\u001b[1;32m----> 5\u001b[1;33m             \u001b[0mf\u001b[0m\u001b[1;33m=\u001b[0m\u001b[0mm\u001b[0m\u001b[1;33m.\u001b[0m\u001b[0msplit\u001b[0m\u001b[1;33m(\u001b[0m\u001b[1;33m)\u001b[0m\u001b[1;33m\u001b[0m\u001b[1;33m\u001b[0m\u001b[0m\n\u001b[0m\u001b[0;32m      6\u001b[0m             \u001b[0mprint\u001b[0m\u001b[1;33m(\u001b[0m\u001b[0mlen\u001b[0m\u001b[1;33m(\u001b[0m\u001b[0mf\u001b[0m\u001b[1;33m)\u001b[0m\u001b[1;33m)\u001b[0m\u001b[1;33m\u001b[0m\u001b[1;33m\u001b[0m\u001b[0m\n\u001b[0;32m      7\u001b[0m \u001b[0mk\u001b[0m\u001b[1;33m=\u001b[0m\u001b[1;34m\"hello.txt\"\u001b[0m\u001b[1;33m\u001b[0m\u001b[1;33m\u001b[0m\u001b[0m\n",
      "\u001b[1;31mAttributeError\u001b[0m: 'list' object has no attribute 'split'"
     ]
    }
   ],
   "source": [
    "# word count\n",
    "def char_count(k):\n",
    "     with open(\"hello.txt\",'r') as k:\n",
    "            m=k.read()\n",
    "            f=m.split()\n",
    "            print(len(f))\n",
    "k=\"hello.txt\" \n",
    "char_count(n)\n",
    "    "
   ]
  },
  {
   "cell_type": "code",
   "execution_count": 103,
   "metadata": {},
   "outputs": [
    {
     "name": "stdout",
     "output_type": "stream",
     "text": [
      "27\n"
     ]
    }
   ],
   "source": [
    "#file length\n",
    "def file_length(s):\n",
    "    with open(\"hello.txt\",'r') as s:\n",
    "        m=s.read()\n",
    "        k=len(m)\n",
    "        print(k)\n",
    "s=\"hello.txt\"\n",
    "file_length(s)"
   ]
  },
  {
   "cell_type": "code",
   "execution_count": null,
   "metadata": {},
   "outputs": [],
   "source": []
  }
 ],
 "metadata": {
  "kernelspec": {
   "display_name": "Python 3",
   "language": "python",
   "name": "python3"
  },
  "language_info": {
   "codemirror_mode": {
    "name": "ipython",
    "version": 3
   },
   "file_extension": ".py",
   "mimetype": "text/x-python",
   "name": "python",
   "nbconvert_exporter": "python",
   "pygments_lexer": "ipython3",
   "version": "3.7.3"
  }
 },
 "nbformat": 4,
 "nbformat_minor": 2
}
