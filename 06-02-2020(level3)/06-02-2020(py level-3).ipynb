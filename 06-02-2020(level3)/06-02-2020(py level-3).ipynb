{
 "cells": [
  {
   "cell_type": "markdown",
   "metadata": {},
   "source": [
    "Linear regression\n",
    "y=f(x)\n",
    "-->y=mx+c\n",
    "-->y=b1x+b0\n",
    "Root mean square values\n",
    "-->\n",
    "RMSE=[summation(x-x mean)(y-y_mean)/summation(x-x_mean)^^2]Y[b0]\n",
    "R2-score\n",
    "-->sum(y predict-y mean)^^2/(y-y_mean)^^2\n"
   ]
  },
  {
   "cell_type": "code",
   "execution_count": 32,
   "metadata": {},
   "outputs": [],
   "source": [
    "#import matplotlib.pyplot as plt\n",
    "#plt.scatter(x,y,c='m',label=\"before prediction\")\n",
    "#plt.plot(x,y_predict,c='r',label=\"Linear Regression\")\n",
    "#plt.xlabel(\"x\")\n",
    "#plt.ylabel(\"y\")\n",
    "#plt.title(\"LinearRegression Model\")\n",
    "#plt.legend(loc='best')\n",
    "#plt.show()"
   ]
  },
  {
   "cell_type": "code",
   "execution_count": 13,
   "metadata": {},
   "outputs": [
    {
     "name": "stdout",
     "output_type": "stream",
     "text": [
      "[[0.89719306]\n",
      " [0.2937131 ]\n",
      " [0.49957822]\n",
      " [0.16738038]\n",
      " [0.38371513]\n",
      " [0.16010415]\n",
      " [0.53927345]\n",
      " [0.47952373]\n",
      " [0.06443065]\n",
      " [0.97034414]\n",
      " [0.63139948]\n",
      " [0.49722546]\n",
      " [0.32787386]\n",
      " [0.78085324]\n",
      " [0.97470091]\n",
      " [0.04270723]\n",
      " [0.44753621]\n",
      " [0.93288092]\n",
      " [0.02854615]\n",
      " [0.60854597]\n",
      " [0.01766314]\n",
      " [0.51002566]\n",
      " [0.21051792]\n",
      " [0.46589025]\n",
      " [0.0570174 ]\n",
      " [0.57141597]\n",
      " [0.58935772]\n",
      " [0.00914153]\n",
      " [0.74537206]\n",
      " [0.09248884]\n",
      " [0.44601521]\n",
      " [0.88978118]\n",
      " [0.58721227]\n",
      " [0.31722307]\n",
      " [0.87648425]\n",
      " [0.00572416]\n",
      " [0.09587489]\n",
      " [0.37531396]\n",
      " [0.78584355]\n",
      " [0.82671167]\n",
      " [0.1226896 ]\n",
      " [0.11780617]\n",
      " [0.00167608]\n",
      " [0.62337689]\n",
      " [0.0306501 ]\n",
      " [0.62552995]\n",
      " [0.90965519]\n",
      " [0.1850506 ]\n",
      " [0.58273444]\n",
      " [0.61082433]\n",
      " [0.49470349]\n",
      " [0.95377992]\n",
      " [0.50528279]\n",
      " [0.85845166]\n",
      " [0.56683638]\n",
      " [0.21027862]\n",
      " [0.23714693]\n",
      " [0.27578253]\n",
      " [0.42303771]\n",
      " [0.28917849]\n",
      " [0.56442144]\n",
      " [0.13877916]\n",
      " [0.74609372]\n",
      " [0.14994888]\n",
      " [0.49826862]\n",
      " [0.44315341]\n",
      " [0.9923409 ]\n",
      " [0.30466832]\n",
      " [0.53104241]\n",
      " [0.73016066]\n",
      " [0.03181775]\n",
      " [0.0922965 ]\n",
      " [0.30257411]\n",
      " [0.85499551]\n",
      " [0.26381059]\n",
      " [0.44535832]\n",
      " [0.88650876]\n",
      " [0.32923514]\n",
      " [0.6413155 ]\n",
      " [0.88661778]\n",
      " [0.93983733]\n",
      " [0.37171631]\n",
      " [0.1881283 ]\n",
      " [0.3304215 ]\n",
      " [0.19869065]\n",
      " [0.65024665]\n",
      " [0.52368023]\n",
      " [0.26359762]\n",
      " [0.86787627]\n",
      " [0.95983273]\n",
      " [0.21483497]\n",
      " [0.96556689]\n",
      " [0.08633005]\n",
      " [0.40704715]\n",
      " [0.24790834]\n",
      " [0.96508023]\n",
      " [0.2849623 ]\n",
      " [0.81536815]\n",
      " [0.68758149]\n",
      " [0.76351209]]\n",
      "(100, 1)\n"
     ]
    }
   ],
   "source": [
    "## Polymomial ---->Multiple degree=ax^^2+bx+c\n",
    "from sklearn.preprocessing import PolynomialFeatures\n",
    "import numpy as np\n",
    "x1=np.random.rand(100,1)\n",
    "print(x1)\n",
    "y1=0.5*x1+x1**2+np.random.rand(100,1)\n",
    "print(x1.shape)"
   ]
  },
  {
   "cell_type": "code",
   "execution_count": 8,
   "metadata": {},
   "outputs": [
    {
     "name": "stdout",
     "output_type": "stream",
     "text": [
      "(100, 1)\n"
     ]
    }
   ],
   "source": [
    "print(y1.shape)"
   ]
  },
  {
   "cell_type": "code",
   "execution_count": 70,
   "metadata": {},
   "outputs": [
    {
     "data": {
      "text/plain": [
       "[<matplotlib.lines.Line2D at 0x844afd6550>]"
      ]
     },
     "execution_count": 70,
     "metadata": {},
     "output_type": "execute_result"
    },
    {
     "data": {
      "image/png": "[encoded data removed]",
      "text/plain": [
       "<Figure size 432x288 with 1 Axes>"
      ]
     },
     "metadata": {
      "needs_background": "light"
     },
     "output_type": "display_data"
    }
   ],
   "source": [
    "import matplotlib.pyplot as plt\n",
    "plt.plot(x1,y1,'.')"
   ]
  },
  {
   "cell_type": "code",
   "execution_count": 71,
   "metadata": {},
   "outputs": [
    {
     "data": {
      "text/plain": [
       "array([[1.00000000e+00, 8.97193058e-01, 8.04955383e-01, 7.22200381e-01],\n",
       "       [1.00000000e+00, 2.93713097e-01, 8.62673835e-02, 2.53378604e-02],\n",
       "       [1.00000000e+00, 4.99578223e-01, 2.49578401e-01, 1.24683934e-01],\n",
       "       [1.00000000e+00, 1.67380383e-01, 2.80161926e-02, 4.68936105e-03],\n",
       "       [1.00000000e+00, 3.83715131e-01, 1.47237302e-01, 5.64971807e-02],\n",
       "       [1.00000000e+00, 1.60104146e-01, 2.56333376e-02, 4.10400362e-03],\n",
       "       [1.00000000e+00, 5.39273453e-01, 2.90815857e-01, 1.56829272e-01],\n",
       "       [1.00000000e+00, 4.79523734e-01, 2.29943012e-01, 1.10263132e-01],\n",
       "       [1.00000000e+00, 6.44306486e-02, 4.15130848e-03, 2.67471498e-04],\n",
       "       [1.00000000e+00, 9.70344135e-01, 9.41567741e-01, 9.13644736e-01],\n",
       "       [1.00000000e+00, 6.31399484e-01, 3.98665308e-01, 2.51717070e-01],\n",
       "       [1.00000000e+00, 4.97225456e-01, 2.47233154e-01, 1.22930618e-01],\n",
       "       [1.00000000e+00, 3.27873865e-01, 1.07501271e-01, 3.52468572e-02],\n",
       "       [1.00000000e+00, 7.80853245e-01, 6.09731790e-01, 4.76111046e-01],\n",
       "       [1.00000000e+00, 9.74700914e-01, 9.50041873e-01, 9.26006682e-01],\n",
       "       [1.00000000e+00, 4.27072260e-02, 1.82390716e-03, 7.78940152e-05],\n",
       "       [1.00000000e+00, 4.47536213e-01, 2.00288662e-01, 8.96364292e-02],\n",
       "       [1.00000000e+00, 9.32880921e-01, 8.70266813e-01, 8.11855306e-01],\n",
       "       [1.00000000e+00, 2.85461459e-02, 8.14882444e-04, 2.32617531e-05],\n",
       "       [1.00000000e+00, 6.08545966e-01, 3.70328193e-01, 2.25361728e-01],\n",
       "       [1.00000000e+00, 1.76631389e-02, 3.11986475e-04, 5.51066043e-06],\n",
       "       [1.00000000e+00, 5.10025656e-01, 2.60126170e-01, 1.32671020e-01],\n",
       "       [1.00000000e+00, 2.10517917e-01, 4.43177932e-02, 9.32968951e-03],\n",
       "       [1.00000000e+00, 4.65890249e-01, 2.17053724e-01, 1.01123214e-01],\n",
       "       [1.00000000e+00, 5.70173996e-02, 3.25098385e-03, 1.85362645e-04],\n",
       "       [1.00000000e+00, 5.71415974e-01, 3.26516216e-01, 1.86576582e-01],\n",
       "       [1.00000000e+00, 5.89357722e-01, 3.47342524e-01, 2.04708999e-01],\n",
       "       [1.00000000e+00, 9.14153365e-03, 8.35676375e-05, 7.63936371e-07],\n",
       "       [1.00000000e+00, 7.45372063e-01, 5.55579512e-01, 4.14113447e-01],\n",
       "       [1.00000000e+00, 9.24888407e-02, 8.55418565e-03, 7.91166714e-04],\n",
       "       [1.00000000e+00, 4.46015208e-01, 1.98929566e-01, 8.87256117e-02],\n",
       "       [1.00000000e+00, 8.89781183e-01, 7.91710553e-01, 7.04449152e-01],\n",
       "       [1.00000000e+00, 5.87212274e-01, 3.44818254e-01, 2.02481511e-01],\n",
       "       [1.00000000e+00, 3.17223067e-01, 1.00630474e-01, 3.19223075e-02],\n",
       "       [1.00000000e+00, 8.76484246e-01, 7.68224634e-01, 6.73336789e-01],\n",
       "       [1.00000000e+00, 5.72416298e-03, 3.27660418e-05, 1.87558164e-07],\n",
       "       [1.00000000e+00, 9.58748918e-02, 9.19199487e-03, 8.81281514e-04],\n",
       "       [1.00000000e+00, 3.75313962e-01, 1.40860570e-01, 5.28669385e-02],\n",
       "       [1.00000000e+00, 7.85843546e-01, 6.17550078e-01, 4.85297743e-01],\n",
       "       [1.00000000e+00, 8.26711673e-01, 6.83452191e-01, 5.65017904e-01],\n",
       "       [1.00000000e+00, 1.22689605e-01, 1.50527391e-02, 1.84681461e-03],\n",
       "       [1.00000000e+00, 1.17806174e-01, 1.38782947e-02, 1.63494880e-03],\n",
       "       [1.00000000e+00, 1.67608363e-03, 2.80925633e-06, 4.70854855e-09],\n",
       "       [1.00000000e+00, 6.23376889e-01, 3.88598746e-01, 2.42243477e-01],\n",
       "       [1.00000000e+00, 3.06500970e-02, 9.39428447e-04, 2.87935730e-05],\n",
       "       [1.00000000e+00, 6.25529952e-01, 3.91287720e-01, 2.44762189e-01],\n",
       "       [1.00000000e+00, 9.09655194e-01, 8.27472572e-01, 7.52714723e-01],\n",
       "       [1.00000000e+00, 1.85050600e-01, 3.42437245e-02, 6.33682177e-03],\n",
       "       [1.00000000e+00, 5.82734445e-01, 3.39579433e-01, 1.97884632e-01],\n",
       "       [1.00000000e+00, 6.10824326e-01, 3.73106358e-01, 2.27902440e-01],\n",
       "       [1.00000000e+00, 4.94703492e-01, 2.44731545e-01, 1.21069550e-01],\n",
       "       [1.00000000e+00, 9.53779916e-01, 9.09696127e-01, 8.67649896e-01],\n",
       "       [1.00000000e+00, 5.05282791e-01, 2.55310699e-01, 1.29004102e-01],\n",
       "       [1.00000000e+00, 8.58451662e-01, 7.36939256e-01, 6.32626729e-01],\n",
       "       [1.00000000e+00, 5.66836375e-01, 3.21303477e-01, 1.82126498e-01],\n",
       "       [1.00000000e+00, 2.10278624e-01, 4.42170996e-02, 9.29791084e-03],\n",
       "       [1.00000000e+00, 2.37146927e-01, 5.62386649e-02, 1.33368265e-02],\n",
       "       [1.00000000e+00, 2.75782525e-01, 7.60560012e-02, 2.09749161e-02],\n",
       "       [1.00000000e+00, 4.23037709e-01, 1.78960903e-01, 7.57072106e-02],\n",
       "       [1.00000000e+00, 2.89178489e-01, 8.36241985e-02, 2.41823194e-02],\n",
       "       [1.00000000e+00, 5.64421443e-01, 3.18571565e-01, 1.79808622e-01],\n",
       "       [1.00000000e+00, 1.38779160e-01, 1.92596554e-02, 2.67283881e-03],\n",
       "       [1.00000000e+00, 7.46093723e-01, 5.56655843e-01, 4.15317431e-01],\n",
       "       [1.00000000e+00, 1.49948878e-01, 2.24846661e-02, 3.37155045e-03],\n",
       "       [1.00000000e+00, 4.98268622e-01, 2.48271619e-01, 1.23705958e-01],\n",
       "       [1.00000000e+00, 4.43153412e-01, 1.96384947e-01, 8.70286594e-02],\n",
       "       [1.00000000e+00, 9.92340902e-01, 9.84740465e-01, 9.77198241e-01],\n",
       "       [1.00000000e+00, 3.04668325e-01, 9.28227881e-02, 2.82801634e-02],\n",
       "       [1.00000000e+00, 5.31042408e-01, 2.82006039e-01, 1.49757166e-01],\n",
       "       [1.00000000e+00, 7.30160663e-01, 5.33134595e-01, 3.89273909e-01],\n",
       "       [1.00000000e+00, 3.18177487e-02, 1.01236913e-03, 3.22113066e-05],\n",
       "       [1.00000000e+00, 9.22964959e-02, 8.51864315e-03, 7.86240913e-04],\n",
       "       [1.00000000e+00, 3.02574111e-01, 9.15510925e-02, 2.77009904e-02],\n",
       "       [1.00000000e+00, 8.54995505e-01, 7.31017314e-01, 6.25016518e-01],\n",
       "       [1.00000000e+00, 2.63810587e-01, 6.95960259e-02, 1.83601685e-02],\n",
       "       [1.00000000e+00, 4.45358315e-01, 1.98344029e-01, 8.83341627e-02],\n",
       "       [1.00000000e+00, 8.86508756e-01, 7.85897774e-01, 6.96705258e-01],\n",
       "       [1.00000000e+00, 3.29235144e-01, 1.08395780e-01, 3.56877001e-02],\n",
       "       [1.00000000e+00, 6.41315497e-01, 4.11285567e-01, 2.63763808e-01],\n",
       "       [1.00000000e+00, 8.86617777e-01, 7.86091083e-01, 6.96962328e-01],\n",
       "       [1.00000000e+00, 9.39837334e-01, 8.83294215e-01, 8.30152881e-01],\n",
       "       [1.00000000e+00, 3.71716314e-01, 1.38173018e-01, 5.13611648e-02],\n",
       "       [1.00000000e+00, 1.88128296e-01, 3.53922558e-02, 6.65828477e-03],\n",
       "       [1.00000000e+00, 3.30421502e-01, 1.09178369e-01, 3.60748808e-02],\n",
       "       [1.00000000e+00, 1.98690648e-01, 3.94779738e-02, 7.84390420e-03],\n",
       "       [1.00000000e+00, 6.50246654e-01, 4.22820711e-01, 2.74937752e-01],\n",
       "       [1.00000000e+00, 5.23680229e-01, 2.74240982e-01, 1.43614580e-01],\n",
       "       [1.00000000e+00, 2.63597615e-01, 6.94837028e-02, 1.83157384e-02],\n",
       "       [1.00000000e+00, 8.67876273e-01, 7.53209225e-01, 6.53692415e-01],\n",
       "       [1.00000000e+00, 9.59832728e-01, 9.21278866e-01, 8.84273607e-01],\n",
       "       [1.00000000e+00, 2.14834967e-01, 4.61540632e-02, 9.91550666e-03],\n",
       "       [1.00000000e+00, 9.65566892e-01, 9.32319423e-01, 9.00216768e-01],\n",
       "       [1.00000000e+00, 8.63300471e-02, 7.45287704e-03, 6.43407226e-04],\n",
       "       [1.00000000e+00, 4.07047146e-01, 1.65687379e-01, 6.74425746e-02],\n",
       "       [1.00000000e+00, 2.47908339e-01, 6.14585447e-02, 1.52360857e-02],\n",
       "       [1.00000000e+00, 9.65080234e-01, 9.31379858e-01, 8.98856291e-01],\n",
       "       [1.00000000e+00, 2.84962296e-01, 8.12035100e-02, 2.31399386e-02],\n",
       "       [1.00000000e+00, 8.15368152e-01, 6.64825223e-01, 5.42077314e-01],\n",
       "       [1.00000000e+00, 6.87581487e-01, 4.72768302e-01, 3.25066732e-01],\n",
       "       [1.00000000e+00, 7.63512090e-01, 5.82950712e-01, 4.45089917e-01]])"
      ]
     },
     "execution_count": 71,
     "metadata": {},
     "output_type": "execute_result"
    }
   ],
   "source": [
    "poly=PolynomialFeatures(degree=3)\n",
    "x_poly=poly.fit_transform(x1)\n",
    "x_poly"
   ]
  },
  {
   "cell_type": "code",
   "execution_count": 72,
   "metadata": {},
   "outputs": [
    {
     "data": {
      "text/plain": [
       "array([0.89719306])"
      ]
     },
     "execution_count": 72,
     "metadata": {},
     "output_type": "execute_result"
    }
   ],
   "source": [
    "x1[0]"
   ]
  },
  {
   "cell_type": "code",
   "execution_count": 73,
   "metadata": {},
   "outputs": [
    {
     "data": {
      "text/plain": [
       "array([1.        , 0.89719306, 0.80495538, 0.72220038])"
      ]
     },
     "execution_count": 73,
     "metadata": {},
     "output_type": "execute_result"
    }
   ],
   "source": [
    "x_poly[0]"
   ]
  },
  {
   "cell_type": "code",
   "execution_count": 74,
   "metadata": {},
   "outputs": [
    {
     "data": {
      "text/plain": [
       "array([1.        , 0.16738038, 0.02801619, 0.00468936])"
      ]
     },
     "execution_count": 74,
     "metadata": {},
     "output_type": "execute_result"
    }
   ],
   "source": [
    "x_poly[3]"
   ]
  },
  {
   "cell_type": "code",
   "execution_count": 75,
   "metadata": {},
   "outputs": [
    {
     "data": {
      "text/plain": [
       "PolynomialFeatures(degree=3, include_bias=True, interaction_only=False,\n",
       "                   order='C')"
      ]
     },
     "execution_count": 75,
     "metadata": {},
     "output_type": "execute_result"
    }
   ],
   "source": [
    "poly.fit(x_poly,y1)"
   ]
  },
  {
   "cell_type": "code",
   "execution_count": 76,
   "metadata": {},
   "outputs": [],
   "source": [
    "from sklearn.linear_model import LinearRegression\n",
    "lin=LinearRegression()"
   ]
  },
  {
   "cell_type": "code",
   "execution_count": 77,
   "metadata": {},
   "outputs": [
    {
     "data": {
      "text/plain": [
       "LinearRegression(copy_X=True, fit_intercept=True, n_jobs=None, normalize=False)"
      ]
     },
     "execution_count": 77,
     "metadata": {},
     "output_type": "execute_result"
    }
   ],
   "source": [
    "lin.fit(x_poly,y1)"
   ]
  },
  {
   "cell_type": "code",
   "execution_count": 78,
   "metadata": {},
   "outputs": [
    {
     "data": {
      "text/plain": [
       "array([0.49456981])"
      ]
     },
     "execution_count": 78,
     "metadata": {},
     "output_type": "execute_result"
    }
   ],
   "source": [
    "lin.intercept_"
   ]
  },
  {
   "cell_type": "code",
   "execution_count": 79,
   "metadata": {},
   "outputs": [
    {
     "data": {
      "text/plain": [
       "array([[ 0.        ,  0.05827072,  2.38076466, -1.09496751]])"
      ]
     },
     "execution_count": 79,
     "metadata": {},
     "output_type": "execute_result"
    }
   ],
   "source": [
    "lin.coef_"
   ]
  },
  {
   "cell_type": "code",
   "execution_count": 80,
   "metadata": {},
   "outputs": [
    {
     "data": {
      "text/plain": [
       "array([[1.67247327],\n",
       "       [0.68932289],\n",
       "       [0.98134317],\n",
       "       [0.56588845],\n",
       "       [0.80560396],\n",
       "       [0.56043239],\n",
       "       [1.04663482],\n",
       "       [0.94921765],\n",
       "       [0.50791465],\n",
       "       [1.79235236],\n",
       "       [1.20486818],\n",
       "       [0.97754242],\n",
       "       [0.73101632],\n",
       "       [1.47037246],\n",
       "       [1.79924522],\n",
       "       [0.50131539],\n",
       "       [0.89933926],\n",
       "       [1.73187474],\n",
       "       [0.49814779],\n",
       "       [1.16493073],\n",
       "       [0.49633579],\n",
       "       [0.99831811],\n",
       "       [0.60213137],\n",
       "       [0.92774477],\n",
       "       [0.50542912],\n",
       "       [1.1009296 ],\n",
       "       [1.13170321],\n",
       "       [0.49530061],\n",
       "       [1.40726648],\n",
       "       [0.5194584 ],\n",
       "       [0.89701226],\n",
       "       [1.65994557],\n",
       "       [1.12800753],\n",
       "       [0.71767821],\n",
       "       [1.63732333],\n",
       "       [0.49498116],\n",
       "       [0.52107551],\n",
       "       [0.79390791],\n",
       "       [1.47921762],\n",
       "       [1.55120547],\n",
       "       [0.53553385],\n",
       "       [0.5326852 ],\n",
       "       [0.49467416],\n",
       "       [1.19080785],\n",
       "       [0.49856084],\n",
       "       [1.19457722],\n",
       "       [1.69339536],\n",
       "       [0.57994048],\n",
       "       [1.12030764],\n",
       "       [1.16889565],\n",
       "       [0.97347753],\n",
       "       [1.7658712 ],\n",
       "       [0.99059239],\n",
       "       [1.60636563],\n",
       "       [1.09312514],\n",
       "       [0.6019125 ],\n",
       "       [0.62767617],\n",
       "       [0.66874445],\n",
       "       [0.86238738],\n",
       "       [0.68403113],\n",
       "       [1.08901838],\n",
       "       [0.54558261],\n",
       "       [1.4085527 ],\n",
       "       [0.5531464 ],\n",
       "       [0.97922658],\n",
       "       [0.89264547],\n",
       "       [1.8268292 ],\n",
       "       [0.70234641],\n",
       "       [1.03292482],\n",
       "       [1.38014252],\n",
       "       [0.4987988 ],\n",
       "       [0.51936797],\n",
       "       [0.69983094],\n",
       "       [1.60039842],\n",
       "       [0.65553021],\n",
       "       [0.89600858],\n",
       "       [1.65439534],\n",
       "       [0.73274255],\n",
       "       [1.22230107],\n",
       "       [1.65458043],\n",
       "       [1.74326003],\n",
       "       [0.78894862],\n",
       "       [0.58250221],\n",
       "       [0.73425089],\n",
       "       [0.5915466 ],\n",
       "       [1.23804885],\n",
       "       [1.02073497],\n",
       "       [0.65529904],\n",
       "       [1.62258353],\n",
       "       [1.77559725],\n",
       "       [0.6061132 ],\n",
       "       [1.78475911],\n",
       "       [0.51663936],\n",
       "       [0.83890397],\n",
       "       [0.63865092],\n",
       "       [1.78398354],\n",
       "       [0.67916374],\n",
       "       [1.53131725],\n",
       "       [1.30424823],\n",
       "       [1.43956967]])"
      ]
     },
     "execution_count": 80,
     "metadata": {},
     "output_type": "execute_result"
    }
   ],
   "source": [
    "y_predictions=lin.predict(x_poly)\n",
    "y_predictions"
   ]
  },
  {
   "cell_type": "code",
   "execution_count": 81,
   "metadata": {},
   "outputs": [
    {
     "data": {
      "image/png": "[encoded data removed]",
      "text/plain": [
       "<Figure size 432x288 with 1 Axes>"
      ]
     },
     "metadata": {
      "needs_background": "light"
     },
     "output_type": "display_data"
    }
   ],
   "source": [
    "plt.scatter(x1,y1,c='g',label='before polynomial')\n",
    "plt.plot(x1,y_predictions,y1,c='r',label='After polynomial linear regression')\n",
    "plt.xlabel(\"x1\")\n",
    "plt.ylabel(\"y1\")\n",
    "plt.title(\"linear regression with polynomial features\")\n",
    "plt.legend('best')\n",
    "plt.show()"
   ]
  },
  {
   "cell_type": "code",
   "execution_count": 82,
   "metadata": {},
   "outputs": [],
   "source": [
    "import pandas as pd\n",
    "import numpy as np\n",
    "import matplotlib.pyplot as plt\n"
   ]
  },
  {
   "cell_type": "code",
   "execution_count": 111,
   "metadata": {},
   "outputs": [
    {
     "data": {
      "text/html": [
       "<div>\n",
       "<style scoped>\n",
       "    .dataframe tbody tr th:only-of-type {\n",
       "        vertical-align: middle;\n",
       "    }\n",
       "\n",
       "    .dataframe tbody tr th {\n",
       "        vertical-align: top;\n",
       "    }\n",
       "\n",
       "    .dataframe thead th {\n",
       "        text-align: right;\n",
       "    }\n",
       "</style>\n",
       "<table border=\"1\" class=\"dataframe\">\n",
       "  <thead>\n",
       "    <tr style=\"text-align: right;\">\n",
       "      <th></th>\n",
       "      <th>Unnamed: 0</th>\n",
       "      <th>TV</th>\n",
       "      <th>radio</th>\n",
       "      <th>newspaper</th>\n",
       "      <th>sales</th>\n",
       "    </tr>\n",
       "  </thead>\n",
       "  <tbody>\n",
       "    <tr>\n",
       "      <th>0</th>\n",
       "      <td>1</td>\n",
       "      <td>230.1</td>\n",
       "      <td>37.8</td>\n",
       "      <td>69.2</td>\n",
       "      <td>22.1</td>\n",
       "    </tr>\n",
       "    <tr>\n",
       "      <th>1</th>\n",
       "      <td>2</td>\n",
       "      <td>44.5</td>\n",
       "      <td>39.3</td>\n",
       "      <td>45.1</td>\n",
       "      <td>10.4</td>\n",
       "    </tr>\n",
       "    <tr>\n",
       "      <th>2</th>\n",
       "      <td>3</td>\n",
       "      <td>17.2</td>\n",
       "      <td>45.9</td>\n",
       "      <td>69.3</td>\n",
       "      <td>9.3</td>\n",
       "    </tr>\n",
       "    <tr>\n",
       "      <th>3</th>\n",
       "      <td>4</td>\n",
       "      <td>151.5</td>\n",
       "      <td>41.3</td>\n",
       "      <td>58.5</td>\n",
       "      <td>18.5</td>\n",
       "    </tr>\n",
       "    <tr>\n",
       "      <th>4</th>\n",
       "      <td>5</td>\n",
       "      <td>180.8</td>\n",
       "      <td>10.8</td>\n",
       "      <td>58.4</td>\n",
       "      <td>12.9</td>\n",
       "    </tr>\n",
       "  </tbody>\n",
       "</table>\n",
       "</div>"
      ],
      "text/plain": [
       "   Unnamed: 0     TV  radio  newspaper  sales\n",
       "0           1  230.1   37.8       69.2   22.1\n",
       "1           2   44.5   39.3       45.1   10.4\n",
       "2           3   17.2   45.9       69.3    9.3\n",
       "3           4  151.5   41.3       58.5   18.5\n",
       "4           5  180.8   10.8       58.4   12.9"
      ]
     },
     "execution_count": 111,
     "metadata": {},
     "output_type": "execute_result"
    }
   ],
   "source": [
    "ad_df=pd.read_csv(\"advertising.csv\")\n",
    "ad_df.head()"
   ]
  },
  {
   "cell_type": "code",
   "execution_count": 112,
   "metadata": {},
   "outputs": [
    {
     "data": {
      "text/html": [
       "<div>\n",
       "<style scoped>\n",
       "    .dataframe tbody tr th:only-of-type {\n",
       "        vertical-align: middle;\n",
       "    }\n",
       "\n",
       "    .dataframe tbody tr th {\n",
       "        vertical-align: top;\n",
       "    }\n",
       "\n",
       "    .dataframe thead th {\n",
       "        text-align: right;\n",
       "    }\n",
       "</style>\n",
       "<table border=\"1\" class=\"dataframe\">\n",
       "  <thead>\n",
       "    <tr style=\"text-align: right;\">\n",
       "      <th></th>\n",
       "      <th>TV</th>\n",
       "      <th>radio</th>\n",
       "      <th>newspaper</th>\n",
       "      <th>sales</th>\n",
       "    </tr>\n",
       "  </thead>\n",
       "  <tbody>\n",
       "    <tr>\n",
       "      <th>0</th>\n",
       "      <td>230.1</td>\n",
       "      <td>37.8</td>\n",
       "      <td>69.2</td>\n",
       "      <td>22.1</td>\n",
       "    </tr>\n",
       "    <tr>\n",
       "      <th>1</th>\n",
       "      <td>44.5</td>\n",
       "      <td>39.3</td>\n",
       "      <td>45.1</td>\n",
       "      <td>10.4</td>\n",
       "    </tr>\n",
       "    <tr>\n",
       "      <th>2</th>\n",
       "      <td>17.2</td>\n",
       "      <td>45.9</td>\n",
       "      <td>69.3</td>\n",
       "      <td>9.3</td>\n",
       "    </tr>\n",
       "    <tr>\n",
       "      <th>3</th>\n",
       "      <td>151.5</td>\n",
       "      <td>41.3</td>\n",
       "      <td>58.5</td>\n",
       "      <td>18.5</td>\n",
       "    </tr>\n",
       "    <tr>\n",
       "      <th>4</th>\n",
       "      <td>180.8</td>\n",
       "      <td>10.8</td>\n",
       "      <td>58.4</td>\n",
       "      <td>12.9</td>\n",
       "    </tr>\n",
       "    <tr>\n",
       "      <th>5</th>\n",
       "      <td>8.7</td>\n",
       "      <td>48.9</td>\n",
       "      <td>75.0</td>\n",
       "      <td>7.2</td>\n",
       "    </tr>\n",
       "    <tr>\n",
       "      <th>6</th>\n",
       "      <td>57.5</td>\n",
       "      <td>32.8</td>\n",
       "      <td>23.5</td>\n",
       "      <td>11.8</td>\n",
       "    </tr>\n",
       "    <tr>\n",
       "      <th>7</th>\n",
       "      <td>120.2</td>\n",
       "      <td>19.6</td>\n",
       "      <td>11.6</td>\n",
       "      <td>13.2</td>\n",
       "    </tr>\n",
       "    <tr>\n",
       "      <th>8</th>\n",
       "      <td>8.6</td>\n",
       "      <td>2.1</td>\n",
       "      <td>1.0</td>\n",
       "      <td>4.8</td>\n",
       "    </tr>\n",
       "    <tr>\n",
       "      <th>9</th>\n",
       "      <td>199.8</td>\n",
       "      <td>2.6</td>\n",
       "      <td>21.2</td>\n",
       "      <td>10.6</td>\n",
       "    </tr>\n",
       "    <tr>\n",
       "      <th>10</th>\n",
       "      <td>66.1</td>\n",
       "      <td>5.8</td>\n",
       "      <td>24.2</td>\n",
       "      <td>8.6</td>\n",
       "    </tr>\n",
       "    <tr>\n",
       "      <th>11</th>\n",
       "      <td>214.7</td>\n",
       "      <td>24.0</td>\n",
       "      <td>4.0</td>\n",
       "      <td>17.4</td>\n",
       "    </tr>\n",
       "    <tr>\n",
       "      <th>12</th>\n",
       "      <td>23.8</td>\n",
       "      <td>35.1</td>\n",
       "      <td>65.9</td>\n",
       "      <td>9.2</td>\n",
       "    </tr>\n",
       "    <tr>\n",
       "      <th>13</th>\n",
       "      <td>97.5</td>\n",
       "      <td>7.6</td>\n",
       "      <td>7.2</td>\n",
       "      <td>9.7</td>\n",
       "    </tr>\n",
       "    <tr>\n",
       "      <th>14</th>\n",
       "      <td>204.1</td>\n",
       "      <td>32.9</td>\n",
       "      <td>46.0</td>\n",
       "      <td>19.0</td>\n",
       "    </tr>\n",
       "    <tr>\n",
       "      <th>15</th>\n",
       "      <td>195.4</td>\n",
       "      <td>47.7</td>\n",
       "      <td>52.9</td>\n",
       "      <td>22.4</td>\n",
       "    </tr>\n",
       "    <tr>\n",
       "      <th>16</th>\n",
       "      <td>67.8</td>\n",
       "      <td>36.6</td>\n",
       "      <td>114.0</td>\n",
       "      <td>12.5</td>\n",
       "    </tr>\n",
       "    <tr>\n",
       "      <th>17</th>\n",
       "      <td>281.4</td>\n",
       "      <td>39.6</td>\n",
       "      <td>55.8</td>\n",
       "      <td>24.4</td>\n",
       "    </tr>\n",
       "    <tr>\n",
       "      <th>18</th>\n",
       "      <td>69.2</td>\n",
       "      <td>20.5</td>\n",
       "      <td>18.3</td>\n",
       "      <td>11.3</td>\n",
       "    </tr>\n",
       "    <tr>\n",
       "      <th>19</th>\n",
       "      <td>147.3</td>\n",
       "      <td>23.9</td>\n",
       "      <td>19.1</td>\n",
       "      <td>14.6</td>\n",
       "    </tr>\n",
       "    <tr>\n",
       "      <th>20</th>\n",
       "      <td>218.4</td>\n",
       "      <td>27.7</td>\n",
       "      <td>53.4</td>\n",
       "      <td>18.0</td>\n",
       "    </tr>\n",
       "    <tr>\n",
       "      <th>21</th>\n",
       "      <td>237.4</td>\n",
       "      <td>5.1</td>\n",
       "      <td>23.5</td>\n",
       "      <td>12.5</td>\n",
       "    </tr>\n",
       "    <tr>\n",
       "      <th>22</th>\n",
       "      <td>13.2</td>\n",
       "      <td>15.9</td>\n",
       "      <td>49.6</td>\n",
       "      <td>5.6</td>\n",
       "    </tr>\n",
       "    <tr>\n",
       "      <th>23</th>\n",
       "      <td>228.3</td>\n",
       "      <td>16.9</td>\n",
       "      <td>26.2</td>\n",
       "      <td>15.5</td>\n",
       "    </tr>\n",
       "    <tr>\n",
       "      <th>24</th>\n",
       "      <td>62.3</td>\n",
       "      <td>12.6</td>\n",
       "      <td>18.3</td>\n",
       "      <td>9.7</td>\n",
       "    </tr>\n",
       "    <tr>\n",
       "      <th>25</th>\n",
       "      <td>262.9</td>\n",
       "      <td>3.5</td>\n",
       "      <td>19.5</td>\n",
       "      <td>12.0</td>\n",
       "    </tr>\n",
       "    <tr>\n",
       "      <th>26</th>\n",
       "      <td>142.9</td>\n",
       "      <td>29.3</td>\n",
       "      <td>12.6</td>\n",
       "      <td>15.0</td>\n",
       "    </tr>\n",
       "    <tr>\n",
       "      <th>27</th>\n",
       "      <td>240.1</td>\n",
       "      <td>16.7</td>\n",
       "      <td>22.9</td>\n",
       "      <td>15.9</td>\n",
       "    </tr>\n",
       "    <tr>\n",
       "      <th>28</th>\n",
       "      <td>248.8</td>\n",
       "      <td>27.1</td>\n",
       "      <td>22.9</td>\n",
       "      <td>18.9</td>\n",
       "    </tr>\n",
       "    <tr>\n",
       "      <th>29</th>\n",
       "      <td>70.6</td>\n",
       "      <td>16.0</td>\n",
       "      <td>40.8</td>\n",
       "      <td>10.5</td>\n",
       "    </tr>\n",
       "    <tr>\n",
       "      <th>...</th>\n",
       "      <td>...</td>\n",
       "      <td>...</td>\n",
       "      <td>...</td>\n",
       "      <td>...</td>\n",
       "    </tr>\n",
       "    <tr>\n",
       "      <th>170</th>\n",
       "      <td>50.0</td>\n",
       "      <td>11.6</td>\n",
       "      <td>18.4</td>\n",
       "      <td>8.4</td>\n",
       "    </tr>\n",
       "    <tr>\n",
       "      <th>171</th>\n",
       "      <td>164.5</td>\n",
       "      <td>20.9</td>\n",
       "      <td>47.4</td>\n",
       "      <td>14.5</td>\n",
       "    </tr>\n",
       "    <tr>\n",
       "      <th>172</th>\n",
       "      <td>19.6</td>\n",
       "      <td>20.1</td>\n",
       "      <td>17.0</td>\n",
       "      <td>7.6</td>\n",
       "    </tr>\n",
       "    <tr>\n",
       "      <th>173</th>\n",
       "      <td>168.4</td>\n",
       "      <td>7.1</td>\n",
       "      <td>12.8</td>\n",
       "      <td>11.7</td>\n",
       "    </tr>\n",
       "    <tr>\n",
       "      <th>174</th>\n",
       "      <td>222.4</td>\n",
       "      <td>3.4</td>\n",
       "      <td>13.1</td>\n",
       "      <td>11.5</td>\n",
       "    </tr>\n",
       "    <tr>\n",
       "      <th>175</th>\n",
       "      <td>276.9</td>\n",
       "      <td>48.9</td>\n",
       "      <td>41.8</td>\n",
       "      <td>27.0</td>\n",
       "    </tr>\n",
       "    <tr>\n",
       "      <th>176</th>\n",
       "      <td>248.4</td>\n",
       "      <td>30.2</td>\n",
       "      <td>20.3</td>\n",
       "      <td>20.2</td>\n",
       "    </tr>\n",
       "    <tr>\n",
       "      <th>177</th>\n",
       "      <td>170.2</td>\n",
       "      <td>7.8</td>\n",
       "      <td>35.2</td>\n",
       "      <td>11.7</td>\n",
       "    </tr>\n",
       "    <tr>\n",
       "      <th>178</th>\n",
       "      <td>276.7</td>\n",
       "      <td>2.3</td>\n",
       "      <td>23.7</td>\n",
       "      <td>11.8</td>\n",
       "    </tr>\n",
       "    <tr>\n",
       "      <th>179</th>\n",
       "      <td>165.6</td>\n",
       "      <td>10.0</td>\n",
       "      <td>17.6</td>\n",
       "      <td>12.6</td>\n",
       "    </tr>\n",
       "    <tr>\n",
       "      <th>180</th>\n",
       "      <td>156.6</td>\n",
       "      <td>2.6</td>\n",
       "      <td>8.3</td>\n",
       "      <td>10.5</td>\n",
       "    </tr>\n",
       "    <tr>\n",
       "      <th>181</th>\n",
       "      <td>218.5</td>\n",
       "      <td>5.4</td>\n",
       "      <td>27.4</td>\n",
       "      <td>12.2</td>\n",
       "    </tr>\n",
       "    <tr>\n",
       "      <th>182</th>\n",
       "      <td>56.2</td>\n",
       "      <td>5.7</td>\n",
       "      <td>29.7</td>\n",
       "      <td>8.7</td>\n",
       "    </tr>\n",
       "    <tr>\n",
       "      <th>183</th>\n",
       "      <td>287.6</td>\n",
       "      <td>43.0</td>\n",
       "      <td>71.8</td>\n",
       "      <td>26.2</td>\n",
       "    </tr>\n",
       "    <tr>\n",
       "      <th>184</th>\n",
       "      <td>253.8</td>\n",
       "      <td>21.3</td>\n",
       "      <td>30.0</td>\n",
       "      <td>17.6</td>\n",
       "    </tr>\n",
       "    <tr>\n",
       "      <th>185</th>\n",
       "      <td>205.0</td>\n",
       "      <td>45.1</td>\n",
       "      <td>19.6</td>\n",
       "      <td>22.6</td>\n",
       "    </tr>\n",
       "    <tr>\n",
       "      <th>186</th>\n",
       "      <td>139.5</td>\n",
       "      <td>2.1</td>\n",
       "      <td>26.6</td>\n",
       "      <td>10.3</td>\n",
       "    </tr>\n",
       "    <tr>\n",
       "      <th>187</th>\n",
       "      <td>191.1</td>\n",
       "      <td>28.7</td>\n",
       "      <td>18.2</td>\n",
       "      <td>17.3</td>\n",
       "    </tr>\n",
       "    <tr>\n",
       "      <th>188</th>\n",
       "      <td>286.0</td>\n",
       "      <td>13.9</td>\n",
       "      <td>3.7</td>\n",
       "      <td>15.9</td>\n",
       "    </tr>\n",
       "    <tr>\n",
       "      <th>189</th>\n",
       "      <td>18.7</td>\n",
       "      <td>12.1</td>\n",
       "      <td>23.4</td>\n",
       "      <td>6.7</td>\n",
       "    </tr>\n",
       "    <tr>\n",
       "      <th>190</th>\n",
       "      <td>39.5</td>\n",
       "      <td>41.1</td>\n",
       "      <td>5.8</td>\n",
       "      <td>10.8</td>\n",
       "    </tr>\n",
       "    <tr>\n",
       "      <th>191</th>\n",
       "      <td>75.5</td>\n",
       "      <td>10.8</td>\n",
       "      <td>6.0</td>\n",
       "      <td>9.9</td>\n",
       "    </tr>\n",
       "    <tr>\n",
       "      <th>192</th>\n",
       "      <td>17.2</td>\n",
       "      <td>4.1</td>\n",
       "      <td>31.6</td>\n",
       "      <td>5.9</td>\n",
       "    </tr>\n",
       "    <tr>\n",
       "      <th>193</th>\n",
       "      <td>166.8</td>\n",
       "      <td>42.0</td>\n",
       "      <td>3.6</td>\n",
       "      <td>19.6</td>\n",
       "    </tr>\n",
       "    <tr>\n",
       "      <th>194</th>\n",
       "      <td>149.7</td>\n",
       "      <td>35.6</td>\n",
       "      <td>6.0</td>\n",
       "      <td>17.3</td>\n",
       "    </tr>\n",
       "    <tr>\n",
       "      <th>195</th>\n",
       "      <td>38.2</td>\n",
       "      <td>3.7</td>\n",
       "      <td>13.8</td>\n",
       "      <td>7.6</td>\n",
       "    </tr>\n",
       "    <tr>\n",
       "      <th>196</th>\n",
       "      <td>94.2</td>\n",
       "      <td>4.9</td>\n",
       "      <td>8.1</td>\n",
       "      <td>9.7</td>\n",
       "    </tr>\n",
       "    <tr>\n",
       "      <th>197</th>\n",
       "      <td>177.0</td>\n",
       "      <td>9.3</td>\n",
       "      <td>6.4</td>\n",
       "      <td>12.8</td>\n",
       "    </tr>\n",
       "    <tr>\n",
       "      <th>198</th>\n",
       "      <td>283.6</td>\n",
       "      <td>42.0</td>\n",
       "      <td>66.2</td>\n",
       "      <td>25.5</td>\n",
       "    </tr>\n",
       "    <tr>\n",
       "      <th>199</th>\n",
       "      <td>232.1</td>\n",
       "      <td>8.6</td>\n",
       "      <td>8.7</td>\n",
       "      <td>13.4</td>\n",
       "    </tr>\n",
       "  </tbody>\n",
       "</table>\n",
       "<p>200 rows × 4 columns</p>\n",
       "</div>"
      ],
      "text/plain": [
       "        TV  radio  newspaper  sales\n",
       "0    230.1   37.8       69.2   22.1\n",
       "1     44.5   39.3       45.1   10.4\n",
       "2     17.2   45.9       69.3    9.3\n",
       "3    151.5   41.3       58.5   18.5\n",
       "4    180.8   10.8       58.4   12.9\n",
       "5      8.7   48.9       75.0    7.2\n",
       "6     57.5   32.8       23.5   11.8\n",
       "7    120.2   19.6       11.6   13.2\n",
       "8      8.6    2.1        1.0    4.8\n",
       "9    199.8    2.6       21.2   10.6\n",
       "10    66.1    5.8       24.2    8.6\n",
       "11   214.7   24.0        4.0   17.4\n",
       "12    23.8   35.1       65.9    9.2\n",
       "13    97.5    7.6        7.2    9.7\n",
       "14   204.1   32.9       46.0   19.0\n",
       "15   195.4   47.7       52.9   22.4\n",
       "16    67.8   36.6      114.0   12.5\n",
       "17   281.4   39.6       55.8   24.4\n",
       "18    69.2   20.5       18.3   11.3\n",
       "19   147.3   23.9       19.1   14.6\n",
       "20   218.4   27.7       53.4   18.0\n",
       "21   237.4    5.1       23.5   12.5\n",
       "22    13.2   15.9       49.6    5.6\n",
       "23   228.3   16.9       26.2   15.5\n",
       "24    62.3   12.6       18.3    9.7\n",
       "25   262.9    3.5       19.5   12.0\n",
       "26   142.9   29.3       12.6   15.0\n",
       "27   240.1   16.7       22.9   15.9\n",
       "28   248.8   27.1       22.9   18.9\n",
       "29    70.6   16.0       40.8   10.5\n",
       "..     ...    ...        ...    ...\n",
       "170   50.0   11.6       18.4    8.4\n",
       "171  164.5   20.9       47.4   14.5\n",
       "172   19.6   20.1       17.0    7.6\n",
       "173  168.4    7.1       12.8   11.7\n",
       "174  222.4    3.4       13.1   11.5\n",
       "175  276.9   48.9       41.8   27.0\n",
       "176  248.4   30.2       20.3   20.2\n",
       "177  170.2    7.8       35.2   11.7\n",
       "178  276.7    2.3       23.7   11.8\n",
       "179  165.6   10.0       17.6   12.6\n",
       "180  156.6    2.6        8.3   10.5\n",
       "181  218.5    5.4       27.4   12.2\n",
       "182   56.2    5.7       29.7    8.7\n",
       "183  287.6   43.0       71.8   26.2\n",
       "184  253.8   21.3       30.0   17.6\n",
       "185  205.0   45.1       19.6   22.6\n",
       "186  139.5    2.1       26.6   10.3\n",
       "187  191.1   28.7       18.2   17.3\n",
       "188  286.0   13.9        3.7   15.9\n",
       "189   18.7   12.1       23.4    6.7\n",
       "190   39.5   41.1        5.8   10.8\n",
       "191   75.5   10.8        6.0    9.9\n",
       "192   17.2    4.1       31.6    5.9\n",
       "193  166.8   42.0        3.6   19.6\n",
       "194  149.7   35.6        6.0   17.3\n",
       "195   38.2    3.7       13.8    7.6\n",
       "196   94.2    4.9        8.1    9.7\n",
       "197  177.0    9.3        6.4   12.8\n",
       "198  283.6   42.0       66.2   25.5\n",
       "199  232.1    8.6        8.7   13.4\n",
       "\n",
       "[200 rows x 4 columns]"
      ]
     },
     "execution_count": 112,
     "metadata": {},
     "output_type": "execute_result"
    }
   ],
   "source": [
    "ad_df.drop(\"Unnamed: 0\",axis=1,inplace=True)\n",
    "ad_df"
   ]
  },
  {
   "cell_type": "code",
   "execution_count": 139,
   "metadata": {},
   "outputs": [
    {
     "name": "stdout",
     "output_type": "stream",
     "text": [
      "(200, 1)\n",
      "(200, 1)\n"
     ]
    }
   ],
   "source": [
    "x=ad_df.iloc[:,0].values.reshape(-1,1)\n",
    "#print(x)\n",
    "print(x.shape)\n",
    "y=ad_df.iloc[:,3:].values\n",
    "#print(y)\n",
    "print(y.shape)"
   ]
  },
  {
   "cell_type": "code",
   "execution_count": 140,
   "metadata": {},
   "outputs": [],
   "source": [
    "from sklearn.linear_model import LinearRegression\n",
    "lin=LinearRegression()"
   ]
  },
  {
   "cell_type": "code",
   "execution_count": 141,
   "metadata": {},
   "outputs": [
    {
     "data": {
      "text/plain": [
       "LinearRegression(copy_X=True, fit_intercept=True, n_jobs=None, normalize=False)"
      ]
     },
     "execution_count": 141,
     "metadata": {},
     "output_type": "execute_result"
    }
   ],
   "source": [
    "lin.fit(x,y)"
   ]
  },
  {
   "cell_type": "code",
   "execution_count": 142,
   "metadata": {},
   "outputs": [],
   "source": [
    "y_predict=lin.predict(x)"
   ]
  },
  {
   "cell_type": "code",
   "execution_count": 143,
   "metadata": {},
   "outputs": [
    {
     "data": {
      "text/plain": [
       "array([[17.97077451],\n",
       "       [ 9.14797405],\n",
       "       [ 7.85022376],\n",
       "       [14.23439457],\n",
       "       [15.62721814],\n",
       "       [ 7.44616232],\n",
       "       [ 9.76595037],\n",
       "       [12.74649773],\n",
       "       [ 7.44140866],\n",
       "       [16.53041431],\n",
       "       [10.17476548],\n",
       "       [17.23871025],\n",
       "       [ 8.16396559],\n",
       "       [11.66741599],\n",
       "       [16.73482186],\n",
       "       [16.32125309],\n",
       "       [10.25557777],\n",
       "       [20.40940417],\n",
       "       [10.32212907],\n",
       "       [14.03474068],\n",
       "       [17.41459582],\n",
       "       [18.31779199],\n",
       "       [ 7.6600772 ],\n",
       "       [17.88520856],\n",
       "       [ 9.99412625],\n",
       "       [19.52997632],\n",
       "       [13.82557947],\n",
       "       [18.44614092],\n",
       "       [18.85970969],\n",
       "       [10.38868036],\n",
       "       [20.95607553],\n",
       "       [12.39948025],\n",
       "       [11.653155  ],\n",
       "       [19.65832525],\n",
       "       [11.58185004],\n",
       "       [20.85149492],\n",
       "       [19.72012288],\n",
       "       [10.58358059],\n",
       "       [ 9.08142275],\n",
       "       [17.87094757],\n",
       "       [16.65876324],\n",
       "       [15.44657891],\n",
       "       [20.98935118],\n",
       "       [16.86792445],\n",
       "       [ 8.22576322],\n",
       "       [15.35625929],\n",
       "       [11.2966302 ],\n",
       "       [18.43663359],\n",
       "       [17.83291826],\n",
       "       [10.21279479],\n",
       "       [16.53041431],\n",
       "       [11.80527225],\n",
       "       [17.31952254],\n",
       "       [15.71278409],\n",
       "       [19.52046899],\n",
       "       [16.48763133],\n",
       "       [ 7.37961102],\n",
       "       [13.50708398],\n",
       "       [17.05331735],\n",
       "       [17.04856369],\n",
       "       [ 9.57580381],\n",
       "       [19.45391769],\n",
       "       [18.4081116 ],\n",
       "       [11.91460652],\n",
       "       [13.26464711],\n",
       "       [10.31262174],\n",
       "       [ 8.52999772],\n",
       "       [13.65444756],\n",
       "       [18.31779199],\n",
       "       [17.3385372 ],\n",
       "       [16.49713866],\n",
       "       [12.25211667],\n",
       "       [ 8.30657551],\n",
       "       [13.18383482],\n",
       "       [17.17691262],\n",
       "       [ 7.83596277],\n",
       "       [ 8.33985116],\n",
       "       [12.76075872],\n",
       "       [ 7.28929141],\n",
       "       [12.54684384],\n",
       "       [10.66439288],\n",
       "       [18.43187992],\n",
       "       [10.61210257],\n",
       "       [10.28409975],\n",
       "       [17.18166628],\n",
       "       [16.21667248],\n",
       "       [10.65963921],\n",
       "       [12.29489965],\n",
       "       [11.2300789 ],\n",
       "       [12.25211667],\n",
       "       [13.41676436],\n",
       "       [ 8.39214147],\n",
       "       [17.38132017],\n",
       "       [18.95953663],\n",
       "       [12.13802873],\n",
       "       [14.79532693],\n",
       "       [16.4258337 ],\n",
       "       [15.82211837],\n",
       "       [20.80395828],\n",
       "       [13.45954734],\n",
       "       [17.60474238],\n",
       "       [21.12245377],\n",
       "       [20.3523602 ],\n",
       "       [15.96472829],\n",
       "       [18.3558213 ],\n",
       "       [13.58789626],\n",
       "       [ 8.22100956],\n",
       "       [11.32990584],\n",
       "       [ 7.65532354],\n",
       "       [19.17345152],\n",
       "       [17.76636696],\n",
       "       [18.52219954],\n",
       "       [15.38478127],\n",
       "       [16.99627338],\n",
       "       [10.74995883],\n",
       "       [10.60259525],\n",
       "       [13.6496939 ],\n",
       "       [10.66439288],\n",
       "       [13.00794925],\n",
       "       [ 7.95480437],\n",
       "       [13.74952084],\n",
       "       [ 7.92628239],\n",
       "       [17.68080101],\n",
       "       [12.88435399],\n",
       "       [17.94225253],\n",
       "       [11.17778859],\n",
       "       [ 7.40337934],\n",
       "       [10.84503211],\n",
       "       [17.50491544],\n",
       "       [ 9.86577732],\n",
       "       [ 7.0658692 ],\n",
       "       [19.63931059],\n",
       "       [ 7.43190133],\n",
       "       [17.48114712],\n",
       "       [ 8.78669558],\n",
       "       [ 9.32861328],\n",
       "       [ 8.24953154],\n",
       "       [20.04337204],\n",
       "       [ 9.07666909],\n",
       "       [15.82211837],\n",
       "       [10.52178296],\n",
       "       [16.2404408 ],\n",
       "       [17.51442276],\n",
       "       [12.00492614],\n",
       "       [11.60561836],\n",
       "       [13.7019842 ],\n",
       "       [18.44614092],\n",
       "       [18.5935045 ],\n",
       "       [ 8.83898589],\n",
       "       [ 9.15748138],\n",
       "       [20.37612852],\n",
       "       [12.78452704],\n",
       "       [16.4258337 ],\n",
       "       [15.17562006],\n",
       "       [15.95997462],\n",
       "       [ 7.22749377],\n",
       "       [11.49628409],\n",
       "       [14.15358229],\n",
       "       [ 7.58877224],\n",
       "       [13.29316909],\n",
       "       [15.23266402],\n",
       "       [11.10648363],\n",
       "       [15.98849661],\n",
       "       [14.80483426],\n",
       "       [12.60388781],\n",
       "       [18.17993573],\n",
       "       [ 7.88349941],\n",
       "       [16.86317079],\n",
       "       [17.2719859 ],\n",
       "       [20.54726042],\n",
       "       [ 9.40942557],\n",
       "       [14.8523709 ],\n",
       "       [ 7.9643117 ],\n",
       "       [15.0377638 ],\n",
       "       [17.60474238],\n",
       "       [20.19548929],\n",
       "       [18.84069503],\n",
       "       [15.12332975],\n",
       "       [20.18598196],\n",
       "       [14.9046612 ],\n",
       "       [14.47683144],\n",
       "       [17.41934948],\n",
       "       [ 9.70415274],\n",
       "       [20.70413134],\n",
       "       [19.09739289],\n",
       "       [16.77760484],\n",
       "       [13.66395489],\n",
       "       [16.11684554],\n",
       "       [20.62807271],\n",
       "       [ 7.92152873],\n",
       "       [ 8.91029085],\n",
       "       [10.6216099 ],\n",
       "       [ 7.85022376],\n",
       "       [14.96170517],\n",
       "       [14.14882862],\n",
       "       [ 8.84849321],\n",
       "       [11.51054508],\n",
       "       [15.44657891],\n",
       "       [20.51398478],\n",
       "       [18.06584779]])"
      ]
     },
     "execution_count": 143,
     "metadata": {},
     "output_type": "execute_result"
    }
   ],
   "source": [
    "y_predict"
   ]
  },
  {
   "cell_type": "code",
   "execution_count": 144,
   "metadata": {},
   "outputs": [
    {
     "ename": "ValueError",
     "evalue": "shapes (1,3) and (1,1) not aligned: 3 (dim 1) != 1 (dim 0)",
     "output_type": "error",
     "traceback": [
      "\u001b[1;31m---------------------------------------------------------------------------\u001b[0m",
      "\u001b[1;31mValueError\u001b[0m                                Traceback (most recent call last)",
      "\u001b[1;32m<ipython-input-144-0294b1f4d5d9>\u001b[0m in \u001b[0;36m<module>\u001b[1;34m\u001b[0m\n\u001b[1;32m----> 1\u001b[1;33m \u001b[0mlin\u001b[0m\u001b[1;33m.\u001b[0m\u001b[0mpredict\u001b[0m\u001b[1;33m(\u001b[0m\u001b[1;33m[\u001b[0m\u001b[1;33m[\u001b[0m\u001b[1;36m180.8\u001b[0m\u001b[1;33m,\u001b[0m\u001b[1;36m10.8\u001b[0m\u001b[1;33m,\u001b[0m\u001b[1;36m58.4\u001b[0m\u001b[1;33m]\u001b[0m\u001b[1;33m]\u001b[0m\u001b[1;33m)\u001b[0m\u001b[1;33m\u001b[0m\u001b[1;33m\u001b[0m\u001b[0m\n\u001b[0m",
      "\u001b[1;32mC:\\Users\\public\\Anaconda3\\lib\\site-packages\\sklearn\\linear_model\\base.py\u001b[0m in \u001b[0;36mpredict\u001b[1;34m(self, X)\u001b[0m\n\u001b[0;32m    219\u001b[0m             \u001b[0mReturns\u001b[0m \u001b[0mpredicted\u001b[0m \u001b[0mvalues\u001b[0m\u001b[1;33m.\u001b[0m\u001b[1;33m\u001b[0m\u001b[1;33m\u001b[0m\u001b[0m\n\u001b[0;32m    220\u001b[0m         \"\"\"\n\u001b[1;32m--> 221\u001b[1;33m         \u001b[1;32mreturn\u001b[0m \u001b[0mself\u001b[0m\u001b[1;33m.\u001b[0m\u001b[0m_decision_function\u001b[0m\u001b[1;33m(\u001b[0m\u001b[0mX\u001b[0m\u001b[1;33m)\u001b[0m\u001b[1;33m\u001b[0m\u001b[1;33m\u001b[0m\u001b[0m\n\u001b[0m\u001b[0;32m    222\u001b[0m \u001b[1;33m\u001b[0m\u001b[0m\n\u001b[0;32m    223\u001b[0m     \u001b[0m_preprocess_data\u001b[0m \u001b[1;33m=\u001b[0m \u001b[0mstaticmethod\u001b[0m\u001b[1;33m(\u001b[0m\u001b[0m_preprocess_data\u001b[0m\u001b[1;33m)\u001b[0m\u001b[1;33m\u001b[0m\u001b[1;33m\u001b[0m\u001b[0m\n",
      "\u001b[1;32mC:\\Users\\public\\Anaconda3\\lib\\site-packages\\sklearn\\linear_model\\base.py\u001b[0m in \u001b[0;36m_decision_function\u001b[1;34m(self, X)\u001b[0m\n\u001b[0;32m    204\u001b[0m         \u001b[0mX\u001b[0m \u001b[1;33m=\u001b[0m \u001b[0mcheck_array\u001b[0m\u001b[1;33m(\u001b[0m\u001b[0mX\u001b[0m\u001b[1;33m,\u001b[0m \u001b[0maccept_sparse\u001b[0m\u001b[1;33m=\u001b[0m\u001b[1;33m[\u001b[0m\u001b[1;34m'csr'\u001b[0m\u001b[1;33m,\u001b[0m \u001b[1;34m'csc'\u001b[0m\u001b[1;33m,\u001b[0m \u001b[1;34m'coo'\u001b[0m\u001b[1;33m]\u001b[0m\u001b[1;33m)\u001b[0m\u001b[1;33m\u001b[0m\u001b[1;33m\u001b[0m\u001b[0m\n\u001b[0;32m    205\u001b[0m         return safe_sparse_dot(X, self.coef_.T,\n\u001b[1;32m--> 206\u001b[1;33m                                dense_output=True) + self.intercept_\n\u001b[0m\u001b[0;32m    207\u001b[0m \u001b[1;33m\u001b[0m\u001b[0m\n\u001b[0;32m    208\u001b[0m     \u001b[1;32mdef\u001b[0m \u001b[0mpredict\u001b[0m\u001b[1;33m(\u001b[0m\u001b[0mself\u001b[0m\u001b[1;33m,\u001b[0m \u001b[0mX\u001b[0m\u001b[1;33m)\u001b[0m\u001b[1;33m:\u001b[0m\u001b[1;33m\u001b[0m\u001b[1;33m\u001b[0m\u001b[0m\n",
      "\u001b[1;32mC:\\Users\\public\\Anaconda3\\lib\\site-packages\\sklearn\\utils\\extmath.py\u001b[0m in \u001b[0;36msafe_sparse_dot\u001b[1;34m(a, b, dense_output)\u001b[0m\n\u001b[0;32m    140\u001b[0m         \u001b[1;32mreturn\u001b[0m \u001b[0mret\u001b[0m\u001b[1;33m\u001b[0m\u001b[1;33m\u001b[0m\u001b[0m\n\u001b[0;32m    141\u001b[0m     \u001b[1;32melse\u001b[0m\u001b[1;33m:\u001b[0m\u001b[1;33m\u001b[0m\u001b[1;33m\u001b[0m\u001b[0m\n\u001b[1;32m--> 142\u001b[1;33m         \u001b[1;32mreturn\u001b[0m \u001b[0mnp\u001b[0m\u001b[1;33m.\u001b[0m\u001b[0mdot\u001b[0m\u001b[1;33m(\u001b[0m\u001b[0ma\u001b[0m\u001b[1;33m,\u001b[0m \u001b[0mb\u001b[0m\u001b[1;33m)\u001b[0m\u001b[1;33m\u001b[0m\u001b[1;33m\u001b[0m\u001b[0m\n\u001b[0m\u001b[0;32m    143\u001b[0m \u001b[1;33m\u001b[0m\u001b[0m\n\u001b[0;32m    144\u001b[0m \u001b[1;33m\u001b[0m\u001b[0m\n",
      "\u001b[1;31mValueError\u001b[0m: shapes (1,3) and (1,1) not aligned: 3 (dim 1) != 1 (dim 0)"
     ]
    }
   ],
   "source": [
    "lin.predict([[180.8,10.8,58.4]])"
   ]
  },
  {
   "cell_type": "code",
   "execution_count": 145,
   "metadata": {},
   "outputs": [
    {
     "ename": "ValueError",
     "evalue": "shapes (1,3) and (1,1) not aligned: 3 (dim 1) != 1 (dim 0)",
     "output_type": "error",
     "traceback": [
      "\u001b[1;31m---------------------------------------------------------------------------\u001b[0m",
      "\u001b[1;31mValueError\u001b[0m                                Traceback (most recent call last)",
      "\u001b[1;32m<ipython-input-145-606eb0f85020>\u001b[0m in \u001b[0;36m<module>\u001b[1;34m\u001b[0m\n\u001b[1;32m----> 1\u001b[1;33m \u001b[0mlin\u001b[0m\u001b[1;33m.\u001b[0m\u001b[0mpredict\u001b[0m\u001b[1;33m(\u001b[0m\u001b[1;33m[\u001b[0m\u001b[1;33m[\u001b[0m\u001b[1;36m177.0\u001b[0m\u001b[1;33m,\u001b[0m\u001b[1;36m9.3\u001b[0m\u001b[1;33m,\u001b[0m\u001b[1;36m6.4\u001b[0m\u001b[1;33m]\u001b[0m\u001b[1;33m]\u001b[0m\u001b[1;33m)\u001b[0m\u001b[1;33m\u001b[0m\u001b[1;33m\u001b[0m\u001b[0m\n\u001b[0m",
      "\u001b[1;32mC:\\Users\\public\\Anaconda3\\lib\\site-packages\\sklearn\\linear_model\\base.py\u001b[0m in \u001b[0;36mpredict\u001b[1;34m(self, X)\u001b[0m\n\u001b[0;32m    219\u001b[0m             \u001b[0mReturns\u001b[0m \u001b[0mpredicted\u001b[0m \u001b[0mvalues\u001b[0m\u001b[1;33m.\u001b[0m\u001b[1;33m\u001b[0m\u001b[1;33m\u001b[0m\u001b[0m\n\u001b[0;32m    220\u001b[0m         \"\"\"\n\u001b[1;32m--> 221\u001b[1;33m         \u001b[1;32mreturn\u001b[0m \u001b[0mself\u001b[0m\u001b[1;33m.\u001b[0m\u001b[0m_decision_function\u001b[0m\u001b[1;33m(\u001b[0m\u001b[0mX\u001b[0m\u001b[1;33m)\u001b[0m\u001b[1;33m\u001b[0m\u001b[1;33m\u001b[0m\u001b[0m\n\u001b[0m\u001b[0;32m    222\u001b[0m \u001b[1;33m\u001b[0m\u001b[0m\n\u001b[0;32m    223\u001b[0m     \u001b[0m_preprocess_data\u001b[0m \u001b[1;33m=\u001b[0m \u001b[0mstaticmethod\u001b[0m\u001b[1;33m(\u001b[0m\u001b[0m_preprocess_data\u001b[0m\u001b[1;33m)\u001b[0m\u001b[1;33m\u001b[0m\u001b[1;33m\u001b[0m\u001b[0m\n",
      "\u001b[1;32mC:\\Users\\public\\Anaconda3\\lib\\site-packages\\sklearn\\linear_model\\base.py\u001b[0m in \u001b[0;36m_decision_function\u001b[1;34m(self, X)\u001b[0m\n\u001b[0;32m    204\u001b[0m         \u001b[0mX\u001b[0m \u001b[1;33m=\u001b[0m \u001b[0mcheck_array\u001b[0m\u001b[1;33m(\u001b[0m\u001b[0mX\u001b[0m\u001b[1;33m,\u001b[0m \u001b[0maccept_sparse\u001b[0m\u001b[1;33m=\u001b[0m\u001b[1;33m[\u001b[0m\u001b[1;34m'csr'\u001b[0m\u001b[1;33m,\u001b[0m \u001b[1;34m'csc'\u001b[0m\u001b[1;33m,\u001b[0m \u001b[1;34m'coo'\u001b[0m\u001b[1;33m]\u001b[0m\u001b[1;33m)\u001b[0m\u001b[1;33m\u001b[0m\u001b[1;33m\u001b[0m\u001b[0m\n\u001b[0;32m    205\u001b[0m         return safe_sparse_dot(X, self.coef_.T,\n\u001b[1;32m--> 206\u001b[1;33m                                dense_output=True) + self.intercept_\n\u001b[0m\u001b[0;32m    207\u001b[0m \u001b[1;33m\u001b[0m\u001b[0m\n\u001b[0;32m    208\u001b[0m     \u001b[1;32mdef\u001b[0m \u001b[0mpredict\u001b[0m\u001b[1;33m(\u001b[0m\u001b[0mself\u001b[0m\u001b[1;33m,\u001b[0m \u001b[0mX\u001b[0m\u001b[1;33m)\u001b[0m\u001b[1;33m:\u001b[0m\u001b[1;33m\u001b[0m\u001b[1;33m\u001b[0m\u001b[0m\n",
      "\u001b[1;32mC:\\Users\\public\\Anaconda3\\lib\\site-packages\\sklearn\\utils\\extmath.py\u001b[0m in \u001b[0;36msafe_sparse_dot\u001b[1;34m(a, b, dense_output)\u001b[0m\n\u001b[0;32m    140\u001b[0m         \u001b[1;32mreturn\u001b[0m \u001b[0mret\u001b[0m\u001b[1;33m\u001b[0m\u001b[1;33m\u001b[0m\u001b[0m\n\u001b[0;32m    141\u001b[0m     \u001b[1;32melse\u001b[0m\u001b[1;33m:\u001b[0m\u001b[1;33m\u001b[0m\u001b[1;33m\u001b[0m\u001b[0m\n\u001b[1;32m--> 142\u001b[1;33m         \u001b[1;32mreturn\u001b[0m \u001b[0mnp\u001b[0m\u001b[1;33m.\u001b[0m\u001b[0mdot\u001b[0m\u001b[1;33m(\u001b[0m\u001b[0ma\u001b[0m\u001b[1;33m,\u001b[0m \u001b[0mb\u001b[0m\u001b[1;33m)\u001b[0m\u001b[1;33m\u001b[0m\u001b[1;33m\u001b[0m\u001b[0m\n\u001b[0m\u001b[0;32m    143\u001b[0m \u001b[1;33m\u001b[0m\u001b[0m\n\u001b[0;32m    144\u001b[0m \u001b[1;33m\u001b[0m\u001b[0m\n",
      "\u001b[1;31mValueError\u001b[0m: shapes (1,3) and (1,1) not aligned: 3 (dim 1) != 1 (dim 0)"
     ]
    }
   ],
   "source": [
    "lin.predict([[177.0,9.3,6.4]])"
   ]
  },
  {
   "cell_type": "code",
   "execution_count": 146,
   "metadata": {},
   "outputs": [
    {
     "data": {
      "image/png": "[encoded data removed]",
      "text/plain": [
       "<Figure size 432x288 with 1 Axes>"
      ]
     },
     "metadata": {
      "needs_background": "light"
     },
     "output_type": "display_data"
    }
   ],
   "source": [
    "plt.scatter(ad_df[\"radio\"].values,y,c='r',label=\"Before prediction\")\n",
    "plt.plot(x,y_predict,c='y',label=\"After prediction \")\n",
    "plt.xlabel(\"cost of tv,radio,newspaper\")\n",
    "plt.ylabel(\"sales\")\n",
    "plt.title(\"Linear Regression\")\n",
    "plt.legend(\"best\")\n",
    "plt.show()"
   ]
  },
  {
   "cell_type": "code",
   "execution_count": 147,
   "metadata": {},
   "outputs": [],
   "source": [
    "from sklearn.preprocessing import PolynomialFeatures\n",
    "poly_f=PolynomialFeatures()"
   ]
  },
  {
   "cell_type": "code",
   "execution_count": 148,
   "metadata": {},
   "outputs": [
    {
     "data": {
      "text/plain": [
       "PolynomialFeatures(degree=2, include_bias=True, interaction_only=False,\n",
       "                   order='C')"
      ]
     },
     "execution_count": 148,
     "metadata": {},
     "output_type": "execute_result"
    }
   ],
   "source": [
    "x_poly=poly_f.fit_transform(x)\n",
    "poly_f.fit(x_poly,y)"
   ]
  },
  {
   "cell_type": "code",
   "execution_count": 149,
   "metadata": {},
   "outputs": [
    {
     "data": {
      "text/plain": [
       "LinearRegression(copy_X=True, fit_intercept=True, n_jobs=None, normalize=False)"
      ]
     },
     "execution_count": 149,
     "metadata": {},
     "output_type": "execute_result"
    }
   ],
   "source": [
    "lin.fit(x_poly,y)"
   ]
  },
  {
   "cell_type": "code",
   "execution_count": 150,
   "metadata": {},
   "outputs": [
    {
     "data": {
      "text/plain": [
       "array([[17.9668317 ],\n",
       "       [ 8.97186747],\n",
       "       [ 7.2508381 ],\n",
       "       [14.73338271],\n",
       "       [16.0376302 ],\n",
       "       [ 6.69415125],\n",
       "       [ 9.75553418],\n",
       "       [13.21023682],\n",
       "       [ 6.68754311],\n",
       "       [16.82055365],\n",
       "       [10.26124099],\n",
       "       [17.39994591],\n",
       "       [ 7.67626542],\n",
       "       [12.02166137],\n",
       "       [16.99088164],\n",
       "       [16.64364353],\n",
       "       [10.36000739],\n",
       "       [19.62094177],\n",
       "       [10.44104727],\n",
       "       [14.5367921 ],\n",
       "       [17.53910978],\n",
       "       [18.22420424],\n",
       "       [ 6.99010027],\n",
       "       [17.90224845],\n",
       "       [10.03903802],\n",
       "       [19.06597753],\n",
       "       [14.32824915],\n",
       "       [18.31754815],\n",
       "       [18.61153218],\n",
       "       [10.52181875],\n",
       "       [19.94229761],\n",
       "       [12.83570504],\n",
       "       [12.00548088],\n",
       "       [19.14989322],\n",
       "       [11.9243936 ],\n",
       "       [19.88222172],\n",
       "       [19.18994102],\n",
       "       [10.75681981],\n",
       "       [ 8.88609225],\n",
       "       [17.89144144],\n",
       "       [16.92779957],\n",
       "       [15.87511333],\n",
       "       [19.96127367],\n",
       "       [17.10043173],\n",
       "       [ 7.75935853],\n",
       "       [15.79311337],\n",
       "       [11.59696333],\n",
       "       [18.31066802],\n",
       "       [17.86256249],\n",
       "       [10.30776859],\n",
       "       [16.82055365],\n",
       "       [12.17743732],\n",
       "       [17.46411886],\n",
       "       [16.11392171],\n",
       "       [19.05972185],\n",
       "       [16.78458317],\n",
       "       [ 6.60151266],\n",
       "       [14.00560305],\n",
       "       [17.25123024],\n",
       "       [17.24738963],\n",
       "       [ 9.51687086],\n",
       "       [19.01577865],\n",
       "       [18.28999477],\n",
       "       [12.30016487],\n",
       "       [13.75588627],\n",
       "       [10.42948657],\n",
       "       [ 8.16505813],\n",
       "       [14.15565118],\n",
       "       [18.22420424],\n",
       "       [17.47916087],\n",
       "       [16.79258619],\n",
       "       [12.67444984],\n",
       "       [ 7.86766955],\n",
       "       [13.67185584],\n",
       "       [17.35060545],\n",
       "       [ 7.23135877],\n",
       "       [ 7.91215318],\n",
       "       [13.22547243],\n",
       "       [ 6.47535957],\n",
       "       [12.99564425],\n",
       "       [10.85358416],\n",
       "       [18.3072259 ],\n",
       "       [10.79101712],\n",
       "       [10.39477163],\n",
       "       [17.35440908],\n",
       "       [16.5541943 ],\n",
       "       [10.8479031 ],\n",
       "       [12.72140143],\n",
       "       [11.51985359],\n",
       "       [12.67444984],\n",
       "       [13.9129876 ],\n",
       "       [ 7.98192046],\n",
       "       [17.51292527],\n",
       "       [18.68094096],\n",
       "       [12.54870331],\n",
       "       [15.27278171],\n",
       "       [16.73242998],\n",
       "       [16.21075963],\n",
       "       [19.8546954 ],\n",
       "       [13.9569197 ],\n",
       "       [17.68744835],\n",
       "       [20.03650692],\n",
       "       [19.58636551],\n",
       "       [16.33598131],\n",
       "       [18.25196577],\n",
       "       [14.08805046],\n",
       "       [ 7.75297497],\n",
       "       [11.63541755],\n",
       "       [ 6.98355375],\n",
       "       [18.82764051],\n",
       "       [17.81181345],\n",
       "       [18.37239199],\n",
       "       [15.8190615 ],\n",
       "       [17.20505254],\n",
       "       [10.95560919],\n",
       "       [10.7796235 ],\n",
       "       [14.15083146],\n",
       "       [10.85358416],\n",
       "       [13.48759807],\n",
       "       [ 7.39330999],\n",
       "       [14.25175804],\n",
       "       [ 7.35451975],\n",
       "       [17.7461703 ],\n",
       "       [13.3569981 ],\n",
       "       [17.94535325],\n",
       "       [11.45907907],\n",
       "       [ 6.63462868],\n",
       "       [11.06844995],\n",
       "       [17.6098438 ],\n",
       "       [ 9.87995533],\n",
       "       [ 6.16117273],\n",
       "       [19.13752425],\n",
       "       [ 6.67432272],\n",
       "       [17.59127751],\n",
       "       [ 8.5030043 ],\n",
       "       [ 9.20333297],\n",
       "       [ 7.79125579],\n",
       "       [19.39565056],\n",
       "       [ 8.87995518],\n",
       "       [16.21075963],\n",
       "       [10.6825565 ],\n",
       "       [16.57458187],\n",
       "       [17.61726072],\n",
       "       [12.40100211],\n",
       "       [11.95145693],\n",
       "       [14.20377308],\n",
       "       [18.31754815],\n",
       "       [18.42348971],\n",
       "       [ 8.57135563],\n",
       "       [ 8.98409917],\n",
       "       [19.60079625],\n",
       "       [13.25083772],\n",
       "       [16.73242998],\n",
       "       [15.62763041],\n",
       "       [16.33182711],\n",
       "       [ 6.38875946],\n",
       "       [11.82668214],\n",
       "       [14.65410132],\n",
       "       [ 6.89175871],\n",
       "       [13.78544958],\n",
       "       [15.68010181],\n",
       "       [11.37593771],\n",
       "       [16.35673176],\n",
       "       [15.28175974],\n",
       "       [13.05720291],\n",
       "       [18.12283402],\n",
       "       [ 7.29624196],\n",
       "       [17.09653771],\n",
       "       [17.426418  ],\n",
       "       [19.70368695],\n",
       "       [ 9.30624313],\n",
       "       [15.32656773],\n",
       "       [ 7.40622912],\n",
       "       [15.50001042],\n",
       "       [17.68744835],\n",
       "       [19.49026404],\n",
       "       [18.59824299],\n",
       "       [15.57935839],\n",
       "       [19.48439177],\n",
       "       [15.37569835],\n",
       "       [14.96885239],\n",
       "       [17.54284495],\n",
       "       [ 9.67820893],\n",
       "       [19.79644439],\n",
       "       [18.77579837],\n",
       "       [17.02621125],\n",
       "       [14.16528652],\n",
       "       [16.46819266],\n",
       "       [19.75165732],\n",
       "       [ 7.34804992],\n",
       "       [ 8.66429496],\n",
       "       [10.80240527],\n",
       "       [ 7.2508381 ],\n",
       "       [15.42910641],\n",
       "       [14.64942538],\n",
       "       [ 8.58376534],\n",
       "       [11.8429982 ],\n",
       "       [15.87511333],\n",
       "       [19.68381942],\n",
       "       [18.0380705 ]])"
      ]
     },
     "execution_count": 150,
     "metadata": {},
     "output_type": "execute_result"
    }
   ],
   "source": [
    "y_predictions=lin.predict(x_poly)\n",
    "y_predictions"
   ]
  },
  {
   "cell_type": "code",
   "execution_count": 151,
   "metadata": {},
   "outputs": [
    {
     "data": {
      "text/plain": [
       "array([[ 0.00000000e+00,  6.72659270e-02, -6.84693373e-05]])"
      ]
     },
     "execution_count": 151,
     "metadata": {},
     "output_type": "execute_result"
    }
   ],
   "source": [
    "lin.coef_"
   ]
  },
  {
   "cell_type": "code",
   "execution_count": 152,
   "metadata": {},
   "outputs": [
    {
     "data": {
      "text/plain": [
       "array([6.11412013])"
      ]
     },
     "execution_count": 152,
     "metadata": {},
     "output_type": "execute_result"
    }
   ],
   "source": [
    "lin.intercept_"
   ]
  },
  {
   "cell_type": "code",
   "execution_count": 153,
   "metadata": {},
   "outputs": [
    {
     "data": {
      "image/png": "[encoded data removed]",
      "text/plain": [
       "<Figure size 432x288 with 1 Axes>"
      ]
     },
     "metadata": {
      "needs_background": "light"
     },
     "output_type": "display_data"
    }
   ],
   "source": [
    "plt.scatter(ad_df[\"radio\"].values,y,c='r',label=\"Before prediction\")\n",
    "plt.plot(x_poly,y_predictions,c='y',label=\"After prediction \")\n",
    "plt.xlabel(\"cost of tv,radio,newspaper\")\n",
    "plt.ylabel(\"sales\")\n",
    "plt.title(\"Linear Regression\")\n",
    "plt.legend(\"best\")\n",
    "plt.show()"
   ]
  },
  {
   "cell_type": "markdown",
   "metadata": {},
   "source": [
    "## Ridge Regression"
   ]
  },
  {
   "cell_type": "code",
   "execution_count": null,
   "metadata": {},
   "outputs": [],
   "source": [
    "## Ridge regression ---->regularization(alpha=0<alpha<infinity)\n",
    "## Lasso reghression ---->"
   ]
  },
  {
   "cell_type": "code",
   "execution_count": 156,
   "metadata": {},
   "outputs": [],
   "source": [
    "from sklearn.linear_model import Ridge"
   ]
  },
  {
   "cell_type": "code",
   "execution_count": 157,
   "metadata": {},
   "outputs": [],
   "source": [
    "r=Ridge()"
   ]
  },
  {
   "cell_type": "code",
   "execution_count": 167,
   "metadata": {},
   "outputs": [
    {
     "name": "stdout",
     "output_type": "stream",
     "text": [
      "[[0.30354126]\n",
      " [2.9948978 ]\n",
      " [3.9488102 ]\n",
      " [2.0095299 ]\n",
      " [2.76309579]\n",
      " [2.37851564]\n",
      " [4.04972114]\n",
      " [4.84744616]\n",
      " [2.50614947]\n",
      " [2.18648389]\n",
      " [4.67463353]\n",
      " [1.73778056]\n",
      " [0.11657849]\n",
      " [3.58204333]\n",
      " [3.38479098]\n",
      " [1.64926874]\n",
      " [1.33799672]\n",
      " [3.36047548]\n",
      " [2.20070622]\n",
      " [2.12045812]\n",
      " [4.4554053 ]\n",
      " [4.79030688]\n",
      " [4.96848769]\n",
      " [3.19730542]\n",
      " [1.47608813]\n",
      " [4.01589972]\n",
      " [1.47392497]\n",
      " [2.65225818]\n",
      " [4.95273504]\n",
      " [1.56579524]\n",
      " [3.17220272]\n",
      " [2.00906252]\n",
      " [2.57258216]\n",
      " [2.94116535]\n",
      " [1.07299781]\n",
      " [3.30233055]\n",
      " [2.41290795]\n",
      " [4.95235217]\n",
      " [2.60823212]\n",
      " [1.61825054]\n",
      " [1.67100647]\n",
      " [3.30556776]\n",
      " [4.55860817]\n",
      " [0.23430798]\n",
      " [2.47130501]\n",
      " [0.62741114]\n",
      " [2.31138139]\n",
      " [2.36730482]\n",
      " [1.77524126]\n",
      " [1.37223222]\n",
      " [0.46983263]\n",
      " [4.55487487]\n",
      " [3.95734303]\n",
      " [3.99975074]\n",
      " [2.09496247]\n",
      " [0.11486004]\n",
      " [3.74352613]\n",
      " [0.77978151]\n",
      " [1.53618462]\n",
      " [2.90815352]\n",
      " [3.55624999]\n",
      " [1.31985122]\n",
      " [4.54243757]\n",
      " [3.37568005]\n",
      " [1.4756978 ]\n",
      " [1.6270492 ]\n",
      " [1.55852025]\n",
      " [2.9077332 ]\n",
      " [2.28320055]\n",
      " [0.76722884]\n",
      " [0.25277451]\n",
      " [1.01569277]\n",
      " [3.36321215]\n",
      " [4.13417176]\n",
      " [0.3458993 ]\n",
      " [4.97643714]\n",
      " [2.2049216 ]\n",
      " [2.74178887]\n",
      " [3.02143923]\n",
      " [1.88796587]\n",
      " [3.98181828]\n",
      " [4.27086649]\n",
      " [1.35954964]\n",
      " [2.4379556 ]\n",
      " [2.02998263]\n",
      " [3.78313856]\n",
      " [1.35321965]\n",
      " [1.44947256]\n",
      " [4.85698911]\n",
      " [0.39183448]\n",
      " [3.37282767]\n",
      " [4.65484271]\n",
      " [0.84744671]\n",
      " [4.65256081]\n",
      " [3.97764372]\n",
      " [0.12101095]\n",
      " [4.49399807]\n",
      " [3.24581997]\n",
      " [1.66008314]\n",
      " [1.6858077 ]]\n"
     ]
    }
   ],
   "source": [
    "x2=5*np.random.rand(100,1)\n",
    "y2=0.5*x2**2+x2*2+np.random.rand(100,1)\n",
    "print(x2)"
   ]
  },
  {
   "cell_type": "code",
   "execution_count": 168,
   "metadata": {},
   "outputs": [
    {
     "name": "stdout",
     "output_type": "stream",
     "text": [
      "[[ 1.22006387]\n",
      " [10.82627191]\n",
      " [16.08077273]\n",
      " [ 6.25565224]\n",
      " [ 9.81884428]\n",
      " [ 8.10411997]\n",
      " [16.7851761 ]\n",
      " [21.67017912]\n",
      " [ 8.60214164]\n",
      " [ 7.71010616]\n",
      " [21.27182015]\n",
      " [ 5.24367119]\n",
      " [ 0.76535073]\n",
      " [13.85254455]\n",
      " [12.55590264]\n",
      " [ 4.90219456]\n",
      " [ 4.49128443]\n",
      " [13.19122182]\n",
      " [ 6.86274086]\n",
      " [ 6.75156683]\n",
      " [19.60386256]\n",
      " [21.18116881]\n",
      " [22.93159919]\n",
      " [11.83016476]\n",
      " [ 4.66612717]\n",
      " [16.36054561]\n",
      " [ 4.69428233]\n",
      " [ 9.62732765]\n",
      " [22.74623354]\n",
      " [ 5.18796339]\n",
      " [11.42534352]\n",
      " [ 6.29614972]\n",
      " [ 8.96156055]\n",
      " [10.86387427]\n",
      " [ 3.62243316]\n",
      " [12.99174131]\n",
      " [ 8.10808127]\n",
      " [22.81405951]\n",
      " [ 9.40490173]\n",
      " [ 5.12829124]\n",
      " [ 5.3207772 ]\n",
      " [12.28021439]\n",
      " [20.2585161 ]\n",
      " [ 1.48116307]\n",
      " [ 8.80878577]\n",
      " [ 2.34661282]\n",
      " [ 7.90823956]\n",
      " [ 8.22277117]\n",
      " [ 5.16930997]\n",
      " [ 4.3209378 ]\n",
      " [ 1.71466703]\n",
      " [20.07201895]\n",
      " [16.27545711]\n",
      " [16.16621905]\n",
      " [ 6.53535533]\n",
      " [ 0.84204257]\n",
      " [15.15038767]\n",
      " [ 1.93653379]\n",
      " [ 4.69536308]\n",
      " [10.6989801 ]\n",
      " [13.92111606]\n",
      " [ 3.92752021]\n",
      " [20.24981005]\n",
      " [13.28645428]\n",
      " [ 4.0544694 ]\n",
      " [ 4.61135769]\n",
      " [ 5.14950566]\n",
      " [10.60356525]\n",
      " [ 7.18576008]\n",
      " [ 2.60888078]\n",
      " [ 0.53853195]\n",
      " [ 3.51716546]\n",
      " [13.11835271]\n",
      " [17.1527349 ]\n",
      " [ 1.35930768]\n",
      " [22.87194824]\n",
      " [ 7.07104192]\n",
      " [10.00903159]\n",
      " [11.45170648]\n",
      " [ 6.2460024 ]\n",
      " [16.44547818]\n",
      " [18.62753953]\n",
      " [ 3.81062681]\n",
      " [ 7.88362872]\n",
      " [ 7.00066311]\n",
      " [15.33950757]\n",
      " [ 3.83918053]\n",
      " [ 4.85088568]\n",
      " [22.36989417]\n",
      " [ 0.99171842]\n",
      " [12.52697775]\n",
      " [20.38514816]\n",
      " [ 2.20920374]\n",
      " [20.51639481]\n",
      " [16.4514078 ]\n",
      " [ 0.71320404]\n",
      " [19.84841522]\n",
      " [12.55687091]\n",
      " [ 5.20910525]\n",
      " [ 5.61445697]]\n"
     ]
    }
   ],
   "source": [
    "print(y2)"
   ]
  },
  {
   "cell_type": "code",
   "execution_count": 160,
   "metadata": {},
   "outputs": [
    {
     "data": {
      "text/plain": [
       "(100, 1)"
      ]
     },
     "execution_count": 160,
     "metadata": {},
     "output_type": "execute_result"
    }
   ],
   "source": [
    "x2.shape"
   ]
  },
  {
   "cell_type": "code",
   "execution_count": 161,
   "metadata": {},
   "outputs": [
    {
     "data": {
      "text/plain": [
       "(100, 1)"
      ]
     },
     "execution_count": 161,
     "metadata": {},
     "output_type": "execute_result"
    }
   ],
   "source": [
    "y2.shape"
   ]
  },
  {
   "cell_type": "code",
   "execution_count": 164,
   "metadata": {},
   "outputs": [],
   "source": [
    "r=Ridge(alpha=1,solver=\"cholesky\")"
   ]
  },
  {
   "cell_type": "code",
   "execution_count": 165,
   "metadata": {},
   "outputs": [
    {
     "data": {
      "text/plain": [
       "Ridge(alpha=1, copy_X=True, fit_intercept=True, max_iter=None, normalize=False,\n",
       "      random_state=None, solver='cholesky', tol=0.001)"
      ]
     },
     "execution_count": 165,
     "metadata": {},
     "output_type": "execute_result"
    }
   ],
   "source": [
    "r"
   ]
  },
  {
   "cell_type": "markdown",
   "metadata": {},
   "source": [
    "### Solver:{auto,svd,cholesky,isqr,sparse_cg,sag,saga}"
   ]
  },
  {
   "cell_type": "code",
   "execution_count": 166,
   "metadata": {},
   "outputs": [
    {
     "data": {
      "text/plain": [
       "Ridge(alpha=1, copy_X=True, fit_intercept=True, max_iter=None, normalize=False,\n",
       "      random_state=None, solver='cholesky', tol=0.001)"
      ]
     },
     "execution_count": 166,
     "metadata": {},
     "output_type": "execute_result"
    }
   ],
   "source": [
    "r.fit(x2,y2)"
   ]
  },
  {
   "cell_type": "code",
   "execution_count": 171,
   "metadata": {},
   "outputs": [
    {
     "data": {
      "text/plain": [
       "array([[39.09030999]])"
      ]
     },
     "execution_count": 171,
     "metadata": {},
     "output_type": "execute_result"
    }
   ],
   "source": [
    "r.predict([[8.89]])"
   ]
  },
  {
   "cell_type": "code",
   "execution_count": 173,
   "metadata": {},
   "outputs": [
    {
     "data": {
      "text/plain": [
       "array([[13.8296956]])"
      ]
     },
     "execution_count": 173,
     "metadata": {},
     "output_type": "execute_result"
    }
   ],
   "source": [
    "r.predict([[3.4]])"
   ]
  },
  {
   "cell_type": "code",
   "execution_count": null,
   "metadata": {},
   "outputs": [],
   "source": []
  }
 ],
 "metadata": {
  "kernelspec": {
   "display_name": "Python 3",
   "language": "python",
   "name": "python3"
  },
  "language_info": {
   "codemirror_mode": {
    "name": "ipython",
    "version": 3
   },
   "file_extension": ".py",
   "mimetype": "text/x-python",
   "name": "python",
   "nbconvert_exporter": "python",
   "pygments_lexer": "ipython3",
   "version": "3.7.3"
  }
 },
 "nbformat": 4,
 "nbformat_minor": 2
}
