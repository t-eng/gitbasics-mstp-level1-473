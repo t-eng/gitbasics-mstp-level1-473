{
 "cells": [
  {
   "cell_type": "code",
   "execution_count": 12,
   "metadata": {},
   "outputs": [
    {
     "name": "stdout",
     "output_type": "stream",
     "text": [
      "firstclass---> 65.21739130434783\n",
      "23\n"
     ]
    }
   ],
   "source": [
    "## first class percentage\n",
    "filepath=\"studentmarks.txt\"\n",
    "def percentage(filepath):\n",
    "    c=0\n",
    "    count=0\n",
    "    with open(filepath,'r') as f:\n",
    "        k=f.read()\n",
    "        l=k.split()\n",
    "        for i in l:\n",
    "            count+=1\n",
    "            if int(i)<=75:\n",
    "                c=c+1\n",
    "        firstclass=((c/count)*100)\n",
    "        print(\"firstclass--->\",firstclass)\n",
    "        print(count)\n",
    "percentage(filepath)\n",
    "          "
   ]
  },
  {
   "cell_type": "code",
   "execution_count": 17,
   "metadata": {},
   "outputs": [
    {
     "name": "stdout",
     "output_type": "stream",
     "text": [
      "secondclass---> 17.391304347826086\n",
      "23\n"
     ]
    }
   ],
   "source": [
    "## second class percentage\n",
    "filepath=\"studentmarks.txt\"\n",
    "def percentage(filepath):\n",
    "    c=0\n",
    "    count=0\n",
    "    with open(filepath,'r') as f:\n",
    "        k=f.read()\n",
    "        l=k.split()\n",
    "        for i in l:\n",
    "            count+=1\n",
    "            if int(i)>=65 and int(i)<=75:\n",
    "                c=c+1\n",
    "        secondclass=((c/count)*100)\n",
    "        print(\"secondclass--->\",secondclass)\n",
    "        print(count)\n",
    "percentage(filepath)\n",
    "          "
   ]
  },
  {
   "cell_type": "code",
   "execution_count": 18,
   "metadata": {},
   "outputs": [
    {
     "name": "stdout",
     "output_type": "stream",
     "text": [
      "thirdclass---> 17.391304347826086\n",
      "23\n"
     ]
    }
   ],
   "source": [
    "## Third class percentage\n",
    "filepath=\"studentmarks.txt\"\n",
    "def percentage(filepath):\n",
    "    c=0\n",
    "    count=0\n",
    "    with open(filepath,'r') as f:\n",
    "        k=f.read()\n",
    "        l=k.split()\n",
    "        for i in l:\n",
    "            count+=1\n",
    "            if int(i)>=45 and int(i)<=65:\n",
    "                c=c+1\n",
    "        thirdclass=((c/count)*100)\n",
    "        print(\"thirdclass--->\",thirdclass)\n",
    "        print(count)\n",
    "percentage(filepath)\n",
    "          "
   ]
  },
  {
   "cell_type": "code",
   "execution_count": null,
   "metadata": {},
   "outputs": [],
   "source": []
  }
 ],
 "metadata": {
  "kernelspec": {
   "display_name": "Python 3",
   "language": "python",
   "name": "python3"
  },
  "language_info": {
   "codemirror_mode": {
    "name": "ipython",
    "version": 3
   },
   "file_extension": ".py",
   "mimetype": "text/x-python",
   "name": "python",
   "nbconvert_exporter": "python",
   "pygments_lexer": "ipython3",
   "version": "3.7.3"
  }
 },
 "nbformat": 4,
 "nbformat_minor": 2
}
