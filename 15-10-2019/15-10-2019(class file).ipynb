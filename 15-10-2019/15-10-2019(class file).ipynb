{
 "cells": [
  {
   "cell_type": "code",
   "execution_count": 83,
   "metadata": {},
   "outputs": [],
   "source": [
    "file=\"content.txt\"\n",
    "def create(file):\n",
    "    with open (file,'w') as f:\n",
    "        f.write(\"hello\\npython\\nhello\\nhii\\npython\")\n",
    "create(file)\n",
    "        "
   ]
  },
  {
   "cell_type": "code",
   "execution_count": 84,
   "metadata": {},
   "outputs": [
    {
     "name": "stdout",
     "output_type": "stream",
     "text": [
      "hello\n",
      "python\n",
      "hello\n",
      "hii\n",
      "python\n"
     ]
    }
   ],
   "source": [
    "file=\"content.txt\"\n",
    "def creat(file):\n",
    "    with open(file,'r')as f:\n",
    "        f1=f.read()\n",
    "        print(f1)\n",
    "creat(file)\n",
    "    "
   ]
  },
  {
   "cell_type": "code",
   "execution_count": 24,
   "metadata": {},
   "outputs": [],
   "source": [
    "filepath=\"studentmarks.txt\"\n",
    "import random\n",
    "def marks(filepath,m):\n",
    "    with open(filepath,\"w\")as f:\n",
    "        for i in range(m):\n",
    "            f.write(str(random.randint(1,100))+'\\n')\n",
    "marks(filepath,23)\n",
    "    \n",
    "    \n"
   ]
  },
  {
   "cell_type": "code",
   "execution_count": 37,
   "metadata": {},
   "outputs": [
    {
     "data": {
      "text/plain": [
       "58"
      ]
     },
     "execution_count": 37,
     "metadata": {},
     "output_type": "execute_result"
    }
   ],
   "source": [
    "filepath=\"studentmarks.txt\"\n",
    "def passed(filepath):\n",
    "    s=0\n",
    "    c=0\n",
    "    with open (filepath,'r') as f:\n",
    "        k=f.read()\n",
    "        l=k.split()\n",
    "        for i in l:\n",
    "            s=s+int(i)\n",
    "            c=c+1\n",
    "        avg=s//c\n",
    "    return avg\n",
    "passed(filepath)\n",
    "        "
   ]
  },
  {
   "cell_type": "code",
   "execution_count": 70,
   "metadata": {},
   "outputs": [
    {
     "name": "stdout",
     "output_type": "stream",
     "text": [
      "73.91304347826086\n",
      "23\n"
     ]
    }
   ],
   "source": [
    "filepath=\"studentmarks.txt\"\n",
    "def percentage(filepath,n):\n",
    "    c=0\n",
    "    count=0\n",
    "    with open(filepath,'r') as f:\n",
    "        k=f.read()\n",
    "        l=k.split()\n",
    "        for i in l:\n",
    "            count+=1\n",
    "            if int(i)>=35:\n",
    "                c=c+1\n",
    "        passed=((c/n)*100)\n",
    "        print(passed)\n",
    "        print(count)\n",
    "percentage(filepath,23)\n",
    "               \n",
    "          "
   ]
  },
  {
   "cell_type": "code",
   "execution_count": 71,
   "metadata": {},
   "outputs": [
    {
     "name": "stdout",
     "output_type": "stream",
     "text": [
      "26.08695652173913\n",
      "23\n"
     ]
    }
   ],
   "source": [
    "filepath=\"studentmarks.txt\"\n",
    "def percentage(filepath):\n",
    "    c=0\n",
    "    count=0\n",
    "    with open(filepath,'r') as f:\n",
    "        k=f.read()\n",
    "        l=k.split()\n",
    "        for i in l:\n",
    "            count+=1\n",
    "            if int(i)<35:\n",
    "                c=c+1\n",
    "        failed=((c/23)*100)\n",
    "        print(failed)\n",
    "        print(count)\n",
    "percentage(filepath)\n",
    "          "
   ]
  },
  {
   "cell_type": "code",
   "execution_count": 80,
   "metadata": {},
   "outputs": [
    {
     "name": "stdout",
     "output_type": "stream",
     "text": [
      "93\n"
     ]
    }
   ],
   "source": [
    "## Highest marks\n",
    "filepath=(\"studentmarks.txt\")\n",
    "def highest(filepath):\n",
    "    with open (filepath,'r') as k:\n",
    "        f=k.read()\n",
    "        f1=f.split()\n",
    "        for i in f1:\n",
    "            if int(i)>=90:\n",
    "                print(i,end=\" \")\n",
    "highest(filepath)\n",
    "\n",
    "                \n",
    "        \n",
    "  \n",
    "    "
   ]
  },
  {
   "cell_type": "code",
   "execution_count": 79,
   "metadata": {},
   "outputs": [
    {
     "name": "stdout",
     "output_type": "stream",
     "text": [
      "14 18 20 6 "
     ]
    }
   ],
   "source": [
    "## lowest marks\n",
    "filepath=(\"studentmarks.txt\")\n",
    "def lowest(filepath):\n",
    "    with open (filepath,'r') as k:\n",
    "        f=k.read()\n",
    "        f1=f.split()\n",
    "        for i in f1:\n",
    "            if (int(i)<=20):\n",
    "                print(i,end=\" \")\n",
    "lowest(filepath)\n",
    "\n",
    "               "
   ]
  },
  {
   "cell_type": "code",
   "execution_count": 98,
   "metadata": {},
   "outputs": [
    {
     "name": "stdout",
     "output_type": "stream",
     "text": [
      "python -- 2\n",
      "hello -- 2\n",
      "hii -- 1\n"
     ]
    }
   ],
   "source": [
    "file=\"content.txt\"\n",
    "def freqcount(file):\n",
    "    count=0\n",
    "    with open (file,'r')as k:\n",
    "        f1=k.read()\n",
    "        l=f1.split()\n",
    "        for i in set(l):\n",
    "            print(i,\"--\",l.count(i))\n",
    "freqcount(file)\n",
    "            "
   ]
  },
  {
   "cell_type": "code",
   "execution_count": 114,
   "metadata": {},
   "outputs": [
    {
     "name": "stdout",
     "output_type": "stream",
     "text": [
      "{'hello': 2, 'python': 2, 'hii': 1}\n"
     ]
    }
   ],
   "source": [
    "file=\"content.txt\"\n",
    "def freqcount(file):\n",
    "    d={}\n",
    "    with open (file,'r')as k:\n",
    "        f1=k.read()\n",
    "        k1=f1.split()\n",
    "        for i in k1:\n",
    "            d[i]=k1.count(i)\n",
    "        print(d)\n",
    "freqcount(file)\n",
    "            "
   ]
  },
  {
   "cell_type": "code",
   "execution_count": 115,
   "metadata": {},
   "outputs": [
    {
     "name": "stdout",
     "output_type": "stream",
     "text": [
      "Help on method_descriptor:\n",
      "\n",
      "replace(self, old, new, count=-1, /)\n",
      "    Return a copy with all occurrences of substring old replaced by new.\n",
      "    \n",
      "      count\n",
      "        Maximum number of occurrences to replace.\n",
      "        -1 (the default value) means replace all occurrences.\n",
      "    \n",
      "    If the optional argument count is given, only the first count occurrences are\n",
      "    replaced.\n",
      "\n"
     ]
    }
   ],
   "source": [
    "help(str.replace)"
   ]
  },
  {
   "cell_type": "code",
   "execution_count": 127,
   "metadata": {},
   "outputs": [
    {
     "name": "stdout",
     "output_type": "stream",
     "text": [
      "hello\n",
      "manisha\n",
      "hello\n",
      "hii\n",
      "manisha\n"
     ]
    }
   ],
   "source": [
    "file=\"content.txt\"\n",
    "def replacefile(file):\n",
    "    with open (file,'r')as k:\n",
    "        f1=k.read()\n",
    "        s=f1.replace(\"python\",\"manisha\")\n",
    "        print(s)\n",
    "replacefile(file)\n",
    "        \n",
    "            "
   ]
  },
  {
   "cell_type": "code",
   "execution_count": null,
   "metadata": {},
   "outputs": [],
   "source": []
  },
  {
   "cell_type": "code",
   "execution_count": null,
   "metadata": {},
   "outputs": [],
   "source": []
  }
 ],
 "metadata": {
  "kernelspec": {
   "display_name": "Python 3",
   "language": "python",
   "name": "python3"
  },
  "language_info": {
   "codemirror_mode": {
    "name": "ipython",
    "version": 3
   },
   "file_extension": ".py",
   "mimetype": "text/x-python",
   "name": "python",
   "nbconvert_exporter": "python",
   "pygments_lexer": "ipython3",
   "version": "3.7.3"
  }
 },
 "nbformat": 4,
 "nbformat_minor": 2
}
