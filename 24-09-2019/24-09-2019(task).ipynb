{
 "cells": [
  {
   "cell_type": "code",
   "execution_count": 36,
   "metadata": {},
   "outputs": [
    {
     "name": "stdout",
     "output_type": "stream",
     "text": [
      "20\n",
      "50\n",
      "45\n",
      "number is present\n"
     ]
    }
   ],
   "source": [
    "## 1.Check if the number exist in a given range (inputs: number(n), range(lower number and upper number) \n",
    "def number(a,b,c):\n",
    "        if(a<c<b):\n",
    "            print(\"number is present\")\n",
    "        else:\n",
    "            print(\"not present\")\n",
    "a=int(input())\n",
    "b=int(input())\n",
    "c=int(input())\n",
    "number(a,b,c)"
   ]
  },
  {
   "cell_type": "code",
   "execution_count": 41,
   "metadata": {},
   "outputs": [
    {
     "name": "stdout",
     "output_type": "stream",
     "text": [
      "456778\n",
      "6\n"
     ]
    }
   ],
   "source": [
    "## 2.Check the number of digits in a given number\n",
    "def digit(n):\n",
    "    a=len(n)\n",
    "    print(a)\n",
    "n=input()\n",
    "digit(n)"
   ]
  },
  {
   "cell_type": "code",
   "execution_count": 34,
   "metadata": {},
   "outputs": [
    {
     "name": "stdout",
     "output_type": "stream",
     "text": [
      "90\n",
      "not factor\n"
     ]
    }
   ],
   "source": [
    "##### 3. Check if the given number is a factor of 1000 \n",
    "def factor(n):\n",
    "    if(1000%n==0):\n",
    "        print(\"factor\")\n",
    "    else:\n",
    "        print(\"not factor\")\n",
    "n=int(input())\n",
    "factor(n)"
   ]
  },
  {
   "cell_type": "code",
   "execution_count": 2,
   "metadata": {},
   "outputs": [
    {
     "name": "stdout",
     "output_type": "stream",
     "text": [
      "7\n",
      "squareroot 3.5\n"
     ]
    }
   ],
   "source": [
    "## 4.Calculate the square root of a given number \n",
    "def squareroot(n):\n",
    "    a=n**1/2\n",
    "    if(a):\n",
    "        print(\"squareroot\",a)\n",
    "    else:\n",
    "        print(\"not squareroot\")\n",
    "n=int(input())\n",
    "squareroot(n)\n",
    "    "
   ]
  },
  {
   "cell_type": "code",
   "execution_count": 1,
   "metadata": {},
   "outputs": [
    {
     "name": "stdout",
     "output_type": "stream",
     "text": [
      "6\n",
      "2.449489742783178\n"
     ]
    }
   ],
   "source": [
    "def roots(n):\n",
    "    a=(n**(1/2))\n",
    "    print(a)\n",
    "n=int(input())\n",
    "roots(n)"
   ]
  },
  {
   "cell_type": "code",
   "execution_count": 3,
   "metadata": {},
   "outputs": [
    {
     "name": "stdout",
     "output_type": "stream",
     "text": [
      "6\n",
      "6\n",
      "square\n"
     ]
    }
   ],
   "source": [
    "##5.python program to take values of length and breadth(width) of a rectangle from user and check if it is square or not. \n",
    "def rectangle(n,b):\n",
    "    if(n==b):\n",
    "        print(\"square\")\n",
    "    else:\n",
    "        print(\"rectamgle\")\n",
    "n=int(input())\n",
    "b=int(input())\n",
    "rectangle(n,b)"
   ]
  },
  {
   "cell_type": "code",
   "execution_count": 5,
   "metadata": {},
   "outputs": [
    {
     "name": "stdout",
     "output_type": "stream",
     "text": [
      "55\n",
      "C\n"
     ]
    }
   ],
   "source": [
    "## 6.A school has following rules for grading system:\n",
    "# Below 25 - F\n",
    "# 25 to 45 - E\n",
    "# 45 to 50 - D\n",
    "# 50 to 60 - C\n",
    "# 60 to 80 - B\n",
    "# Above 80 - A\n",
    "# Ask user to enter marks and print the corresponding grade.\n",
    "def grade (n):\n",
    "    if(n>80):\n",
    "        print(\"A\")\n",
    "    elif(n>60 and n<80):\n",
    "        print(\"B\")\n",
    "    elif(n>50 and n<60):\n",
    "        print(\"C\")\n",
    "    elif(n>45 and n<50):\n",
    "        print(\"D\")\n",
    "    elif(n>25 and n<45):\n",
    "        print(\"E\")\n",
    "    else:\n",
    "        print(\"F\")\n",
    "n=int(input())       \n",
    "grade(n)"
   ]
  },
  {
   "cell_type": "code",
   "execution_count": 39,
   "metadata": {},
   "outputs": [
    {
     "name": "stdout",
     "output_type": "stream",
     "text": [
      "34\n",
      "45\n",
      "20\n",
      "oldest 45\n",
      "youngest 20\n"
     ]
    }
   ],
   "source": [
    "# 7..Take input of age of 3 people by user and determine oldest and youngest among them. \n",
    "def age (x,y,z):\n",
    "    if(x>y and x>z):\n",
    "        oldest=x\n",
    "    elif(y>z and y>x):\n",
    "        oldest=y\n",
    "    else:\n",
    "        oldest=z\n",
    "    if(x<y and x<z):\n",
    "        youngest=x\n",
    "    elif(y<z and y<x):\n",
    "        youngest=y\n",
    "    else:\n",
    "        youngest=z\n",
    "        print(\"oldest\",oldest)\n",
    "        print(\"youngest\",youngest)\n",
    "    \n",
    "x=int(input())\n",
    "y=int(input())\n",
    "z=int(input())\n",
    "age(x,y,z)"
   ]
  },
  {
   "cell_type": "code",
   "execution_count": null,
   "metadata": {},
   "outputs": [],
   "source": [
    "#8. student will not be allowed to sit in exam if his/her attendance is less than 75%.\n",
    "#Take following input from user Number of classes held,Number of classes attended.\n",
    "#And print percentage of class attended Is student is allowed to sit in exam or not. \n",
    "def attendance (held,attend):\n",
    "    m=(((attend/held)*100))\n",
    "    print(m)\n",
    "    if(m>75):\n",
    "        print(\"allowed to class\")\n",
    "    else:\n",
    "        print(\"not allowed to class\")\n",
    "attend=int(input())\n",
    "held=int(input())\n",
    "attendance(held,attend)"
   ]
  },
  {
   "cell_type": "code",
   "execution_count": null,
   "metadata": {},
   "outputs": [],
   "source": []
  },
  {
   "cell_type": "code",
   "execution_count": null,
   "metadata": {},
   "outputs": [],
   "source": []
  }
 ],
 "metadata": {
  "kernelspec": {
   "display_name": "Python 3",
   "language": "python",
   "name": "python3"
  },
  "language_info": {
   "codemirror_mode": {
    "name": "ipython",
    "version": 3
   },
   "file_extension": ".py",
   "mimetype": "text/x-python",
   "name": "python",
   "nbconvert_exporter": "python",
   "pygments_lexer": "ipython3",
   "version": "3.7.3"
  }
 },
 "nbformat": 4,
 "nbformat_minor": 2
}
